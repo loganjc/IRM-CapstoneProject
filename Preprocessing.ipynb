{
 "cells": [
  {
   "cell_type": "code",
   "execution_count": 1,
   "id": "0a1704ed",
   "metadata": {},
   "outputs": [],
   "source": [
    "import spacy\n",
    "import pandas as pd\n",
    "import numpy\n",
    "from text_processing import Text_Pre_Processor"
   ]
  },
  {
   "cell_type": "code",
   "execution_count": null,
   "id": "ba6482f8",
   "metadata": {},
   "outputs": [],
   "source": [
    "'''\n",
    "Module dedicated to treating text data from the Bittext dataset.\n",
    "\n",
    "Relies on text_processing.py\n",
    "\n",
    "Treats text data and adds SpaCy semantic vector data to data frame for export and use in model training.\n",
    "\n",
    "'''"
   ]
  },
  {
   "cell_type": "code",
   "execution_count": 2,
   "id": "513d559b",
   "metadata": {},
   "outputs": [],
   "source": [
    "nlp = spacy.load('en_core_web_md')"
   ]
  },
  {
   "cell_type": "code",
   "execution_count": 3,
   "id": "66426a4e",
   "metadata": {},
   "outputs": [],
   "source": [
    "filename = 'dataset\\8000_utterances.csv'"
   ]
  },
  {
   "cell_type": "code",
   "execution_count": 10,
   "id": "be37e055",
   "metadata": {},
   "outputs": [],
   "source": [
    "df = pd.read_csv(filename)"
   ]
  },
  {
   "cell_type": "code",
   "execution_count": 11,
   "id": "c1d2d05a",
   "metadata": {},
   "outputs": [
    {
     "name": "stdout",
     "output_type": "stream",
     "text": [
      "data exported sucessfully\n"
     ]
    }
   ],
   "source": [
    "#preprocess text into lemmas, add semantic vector data into dataframe per entry, export into new dataframe\n",
    "\n",
    "text_processor = Text_Pre_Processor(nlp)\n",
    "\n",
    "#add new column to dataframe:\n",
    "df.insert(len(df.columns), 'semantic_value', pd.Series([[1, 2, 3], 'a'], dtype=object))\n",
    "\n",
    "df['semantic_value_vec_norm'] = 0\n",
    "\n",
    "for i, text in enumerate(df.loc[:, 'utterance']):\n",
    "    doc = text_processor.process(text)\n",
    "    new_utterance = []\n",
    "    for token in doc:\n",
    "        new_utterance.append(token.text)\n",
    "    df.at[i, 'utterance'] = ' '.join(new_utterance)\n",
    "    df.at[i, 'semantic_value'] = doc.vector\n",
    "    df.at[i, 'semantic_value_vec_norm'] = doc.vector_norm\n",
    "    \n",
    "#export treated DF for use in next steps\n",
    "df.to_json('treated_data.json')\n",
    "print(\"data exported sucessfully\")"
   ]
  }
 ],
 "metadata": {
  "kernelspec": {
   "display_name": "Python 3 (ipykernel)",
   "language": "python",
   "name": "python3"
  },
  "language_info": {
   "codemirror_mode": {
    "name": "ipython",
    "version": 3
   },
   "file_extension": ".py",
   "mimetype": "text/x-python",
   "name": "python",
   "nbconvert_exporter": "python",
   "pygments_lexer": "ipython3",
   "version": "3.9.13"
  }
 },
 "nbformat": 4,
 "nbformat_minor": 5
}
