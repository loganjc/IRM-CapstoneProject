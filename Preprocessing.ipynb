{
 "cells": [
  {
   "cell_type": "code",
   "execution_count": 1,
   "id": "0a1704ed",
   "metadata": {},
   "outputs": [],
   "source": [
    "import spacy\n",
    "import pandas as pd\n",
    "import string\n",
    "import numpy"
   ]
  },
  {
   "cell_type": "code",
   "execution_count": 2,
   "id": "513d559b",
   "metadata": {},
   "outputs": [],
   "source": [
    "nlp = spacy.load('en_core_web_md')"
   ]
  },
  {
   "cell_type": "code",
   "execution_count": 6,
   "id": "66426a4e",
   "metadata": {},
   "outputs": [],
   "source": [
    "filename = 'dataset\\8000_utterances.csv'"
   ]
  },
  {
   "cell_type": "code",
   "execution_count": 63,
   "id": "be37e055",
   "metadata": {},
   "outputs": [],
   "source": [
    "df = pd.read_csv(filename)"
   ]
  },
  {
   "cell_type": "code",
   "execution_count": 77,
   "id": "9fdff9e3",
   "metadata": {},
   "outputs": [],
   "source": [
    "class Text_Pre_Processor:\n",
    "    '''Prepare dataframe for use in Tf-id and semantic similarity comparison. \n",
    "    \n",
    "    Args: \n",
    "    nlp= initialized spaCy \n",
    "    df = prepared pandas dataframe\n",
    "    \n",
    "    Output: \n",
    "    Doc object with lemmatized text version of input without punct or stop words'''\n",
    "    def __init__(self, nlp):\n",
    "        self.nlp = nlp\n",
    "     \n",
    "    #input string, remove punct, return new string\n",
    "    def remove_punct(self, text):\n",
    "        text = text.translate(str.maketrans('','',string.punctuation))\n",
    "        return text\n",
    "        \n",
    "    #input text, remove text, return new doc.\n",
    "    def stop_word_removal(self, text):\n",
    "        doc = nlp(text)\n",
    "        stop_word_index = []\n",
    "        for index, token in enumerate(doc):\n",
    "            if token.text.lower() in nlp.Defaults.stop_words:\n",
    "                stop_word_index.append(index)\n",
    "        filtered_tokens = [token.text for i,token in enumerate(doc) if i not in stop_word_index]\n",
    "        doc = nlp(' '.join(filtered_tokens))\n",
    "        return doc\n",
    "        \n",
    "    #input doc, return lemmatized doc\n",
    "    def lemmatization(self, doc):\n",
    "        lemmas = ''\n",
    "        for token in doc:\n",
    "            lemmas = lemmas + (token.lemma_) + ' '\n",
    "        return nlp(lemmas)\n",
    "        \n",
    "    #Perform all processing on text input\n",
    "    def process(self, utterance):\n",
    "        text = self.remove_punct(utterance)\n",
    "        doc = self.stop_word_removal(text)\n",
    "        doc = self.lemmatization(doc)\n",
    "        return doc"
   ]
  },
  {
   "cell_type": "code",
   "execution_count": 98,
   "id": "2e475ea2",
   "metadata": {},
   "outputs": [],
   "source": [
    "df = pd.read_csv(filename)"
   ]
  },
  {
   "cell_type": "code",
   "execution_count": 100,
   "id": "c1d2d05a",
   "metadata": {},
   "outputs": [],
   "source": [
    "#preprocess text into lemmas, add semantic vector data into dataframe per entry, export into new dataframe\n",
    "\n",
    "text_processor = Text_Pre_Processor(nlp)\n",
    "#add new column to dataframe:\n",
    "df['semantic_value'] = 0.0\n",
    "df['semantic_value_vec_norm'] = 0.0\n",
    "\n",
    "\n",
    "for i, text in enumerate(df.loc[:, 'utterance']):\n",
    "#for i, text in enumerate(df.loc[0:5, 'utterance']):\n",
    "    doc = text_processor.process(text)\n",
    "    new_utterance = []\n",
    "    for token in doc:\n",
    "        new_utterance.append(token.text)\n",
    "    df.at[i, 'utterance'] = ' '.join(new_utterance)\n",
    "    \n",
    "    #Cannot put array into df cell. Could convert to str and then back to list for sklearn?\n",
    "    df.at[i, 'semantic_value'] = str(doc.vector)\n",
    "    \n",
    "    df.at[i, 'semantic_value_vec_norm'] = doc.vector_norm\n",
    "    \n",
    "#export treated DF as CSV for use in next steps\n",
    "df.to_csv('treated_data.csv', index=False)"
   ]
  },
  {
   "cell_type": "code",
   "execution_count": 101,
   "id": "53c693d4",
   "metadata": {
    "scrolled": false
   },
   "outputs": [
    {
     "name": "stdout",
     "output_type": "stream",
     "text": [
      "<class 'pandas.core.frame.DataFrame'>\n",
      "RangeIndex: 8175 entries, 0 to 8174\n",
      "Data columns (total 6 columns):\n",
      " #   Column                   Non-Null Count  Dtype  \n",
      "---  ------                   --------------  -----  \n",
      " 0   flags                    8175 non-null   object \n",
      " 1   utterance                8175 non-null   object \n",
      " 2   category                 8175 non-null   object \n",
      " 3   intent                   8175 non-null   object \n",
      " 4   semantic_value           8175 non-null   object \n",
      " 5   semantic_value_vec_norm  8175 non-null   float64\n",
      "dtypes: float64(1), object(5)\n",
      "memory usage: 383.3+ KB\n"
     ]
    }
   ],
   "source": [
    "df.info()"
   ]
  },
  {
   "cell_type": "code",
   "execution_count": 102,
   "id": "2b64fe09",
   "metadata": {
    "scrolled": false
   },
   "outputs": [
    {
     "data": {
      "text/html": [
       "<div>\n",
       "<style scoped>\n",
       "    .dataframe tbody tr th:only-of-type {\n",
       "        vertical-align: middle;\n",
       "    }\n",
       "\n",
       "    .dataframe tbody tr th {\n",
       "        vertical-align: top;\n",
       "    }\n",
       "\n",
       "    .dataframe thead th {\n",
       "        text-align: right;\n",
       "    }\n",
       "</style>\n",
       "<table border=\"1\" class=\"dataframe\">\n",
       "  <thead>\n",
       "    <tr style=\"text-align: right;\">\n",
       "      <th></th>\n",
       "      <th>flags</th>\n",
       "      <th>utterance</th>\n",
       "      <th>category</th>\n",
       "      <th>intent</th>\n",
       "      <th>semantic_value</th>\n",
       "      <th>semantic_value_vec_norm</th>\n",
       "    </tr>\n",
       "  </thead>\n",
       "  <tbody>\n",
       "    <tr>\n",
       "      <th>0</th>\n",
       "      <td>BM</td>\n",
       "      <td>problem cancel order</td>\n",
       "      <td>ORDER</td>\n",
       "      <td>cancel_order</td>\n",
       "      <td>[ 0.9792027   1.7512335  -2.1456368  -0.207200...</td>\n",
       "      <td>34.474487</td>\n",
       "    </tr>\n",
       "    <tr>\n",
       "      <th>1</th>\n",
       "      <td>BIM</td>\n",
       "      <td>find information cancel order</td>\n",
       "      <td>ORDER</td>\n",
       "      <td>cancel_order</td>\n",
       "      <td>[ 1.818227   -0.20782498 -1.0179275  -0.259152...</td>\n",
       "      <td>36.865709</td>\n",
       "    </tr>\n",
       "    <tr>\n",
       "      <th>2</th>\n",
       "      <td>B</td>\n",
       "      <td>need help cancel order</td>\n",
       "      <td>ORDER</td>\n",
       "      <td>cancel_order</td>\n",
       "      <td>[ 3.3943768   2.520625   -4.8734274  -0.143539...</td>\n",
       "      <td>42.555865</td>\n",
       "    </tr>\n",
       "    <tr>\n",
       "      <th>3</th>\n",
       "      <td>BIP</td>\n",
       "      <td>help cancel order</td>\n",
       "      <td>ORDER</td>\n",
       "      <td>cancel_order</td>\n",
       "      <td>[ 1.948936    1.3805002  -4.733937    0.601046...</td>\n",
       "      <td>40.969231</td>\n",
       "    </tr>\n",
       "    <tr>\n",
       "      <th>4</th>\n",
       "      <td>B</td>\n",
       "      <td>problem cancel order</td>\n",
       "      <td>ORDER</td>\n",
       "      <td>cancel_order</td>\n",
       "      <td>[ 0.9792027   1.7512335  -2.1456368  -0.207200...</td>\n",
       "      <td>34.474487</td>\n",
       "    </tr>\n",
       "  </tbody>\n",
       "</table>\n",
       "</div>"
      ],
      "text/plain": [
       "  flags                      utterance category        intent  \\\n",
       "0    BM           problem cancel order    ORDER  cancel_order   \n",
       "1   BIM  find information cancel order    ORDER  cancel_order   \n",
       "2     B         need help cancel order    ORDER  cancel_order   \n",
       "3   BIP              help cancel order    ORDER  cancel_order   \n",
       "4     B           problem cancel order    ORDER  cancel_order   \n",
       "\n",
       "                                      semantic_value  semantic_value_vec_norm  \n",
       "0  [ 0.9792027   1.7512335  -2.1456368  -0.207200...                34.474487  \n",
       "1  [ 1.818227   -0.20782498 -1.0179275  -0.259152...                36.865709  \n",
       "2  [ 3.3943768   2.520625   -4.8734274  -0.143539...                42.555865  \n",
       "3  [ 1.948936    1.3805002  -4.733937    0.601046...                40.969231  \n",
       "4  [ 0.9792027   1.7512335  -2.1456368  -0.207200...                34.474487  "
      ]
     },
     "execution_count": 102,
     "metadata": {},
     "output_type": "execute_result"
    }
   ],
   "source": [
    "df.head()"
   ]
  }
 ],
 "metadata": {
  "kernelspec": {
   "display_name": "Python 3 (ipykernel)",
   "language": "python",
   "name": "python3"
  },
  "language_info": {
   "codemirror_mode": {
    "name": "ipython",
    "version": 3
   },
   "file_extension": ".py",
   "mimetype": "text/x-python",
   "name": "python",
   "nbconvert_exporter": "python",
   "pygments_lexer": "ipython3",
   "version": "3.9.13"
  }
 },
 "nbformat": 4,
 "nbformat_minor": 5
}
