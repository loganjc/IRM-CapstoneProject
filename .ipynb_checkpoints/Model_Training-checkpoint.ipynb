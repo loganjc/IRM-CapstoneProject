{
 "cells": [
  {
   "cell_type": "code",
   "execution_count": 19,
   "id": "2282149d",
   "metadata": {},
   "outputs": [],
   "source": [
    "import numpy as np\n",
    "import pandas as pd\n",
    "from sklearn.model_selection import train_test_split\n",
    "from sklearn.pipeline import Pipeline\n",
    "from sklearn.feature_extraction.text import TfidfVectorizer\n",
    "from sklearn.svm import LinearSVC\n",
    "from sklearn import metrics"
   ]
  },
  {
   "cell_type": "code",
   "execution_count": 3,
   "id": "19a16a42",
   "metadata": {},
   "outputs": [],
   "source": [
    "df = pd.read_csv('treated_data.csv')"
   ]
  },
  {
   "cell_type": "code",
   "execution_count": 5,
   "id": "f43ca434",
   "metadata": {},
   "outputs": [
    {
     "data": {
      "text/html": [
       "<div>\n",
       "<style scoped>\n",
       "    .dataframe tbody tr th:only-of-type {\n",
       "        vertical-align: middle;\n",
       "    }\n",
       "\n",
       "    .dataframe tbody tr th {\n",
       "        vertical-align: top;\n",
       "    }\n",
       "\n",
       "    .dataframe thead th {\n",
       "        text-align: right;\n",
       "    }\n",
       "</style>\n",
       "<table border=\"1\" class=\"dataframe\">\n",
       "  <thead>\n",
       "    <tr style=\"text-align: right;\">\n",
       "      <th></th>\n",
       "      <th>flags</th>\n",
       "      <th>utterance</th>\n",
       "      <th>category</th>\n",
       "      <th>intent</th>\n",
       "      <th>semantic_value</th>\n",
       "      <th>semantic_value_vec_norm</th>\n",
       "    </tr>\n",
       "  </thead>\n",
       "  <tbody>\n",
       "    <tr>\n",
       "      <th>0</th>\n",
       "      <td>BM</td>\n",
       "      <td>problem cancel order</td>\n",
       "      <td>ORDER</td>\n",
       "      <td>cancel_order</td>\n",
       "      <td>[ 0.9792027   1.7512335  -2.1456368  -0.207200...</td>\n",
       "      <td>34.474487</td>\n",
       "    </tr>\n",
       "    <tr>\n",
       "      <th>1</th>\n",
       "      <td>BIM</td>\n",
       "      <td>find information cancel order</td>\n",
       "      <td>ORDER</td>\n",
       "      <td>cancel_order</td>\n",
       "      <td>[ 1.818227   -0.20782498 -1.0179275  -0.259152...</td>\n",
       "      <td>36.865709</td>\n",
       "    </tr>\n",
       "    <tr>\n",
       "      <th>2</th>\n",
       "      <td>B</td>\n",
       "      <td>need help cancel order</td>\n",
       "      <td>ORDER</td>\n",
       "      <td>cancel_order</td>\n",
       "      <td>[ 3.3943768   2.520625   -4.8734274  -0.143539...</td>\n",
       "      <td>42.555865</td>\n",
       "    </tr>\n",
       "    <tr>\n",
       "      <th>3</th>\n",
       "      <td>BIP</td>\n",
       "      <td>help cancel order</td>\n",
       "      <td>ORDER</td>\n",
       "      <td>cancel_order</td>\n",
       "      <td>[ 1.948936    1.3805002  -4.733937    0.601046...</td>\n",
       "      <td>40.969231</td>\n",
       "    </tr>\n",
       "    <tr>\n",
       "      <th>4</th>\n",
       "      <td>B</td>\n",
       "      <td>problem cancel order</td>\n",
       "      <td>ORDER</td>\n",
       "      <td>cancel_order</td>\n",
       "      <td>[ 0.9792027   1.7512335  -2.1456368  -0.207200...</td>\n",
       "      <td>34.474487</td>\n",
       "    </tr>\n",
       "  </tbody>\n",
       "</table>\n",
       "</div>"
      ],
      "text/plain": [
       "  flags                      utterance category        intent  \\\n",
       "0    BM           problem cancel order    ORDER  cancel_order   \n",
       "1   BIM  find information cancel order    ORDER  cancel_order   \n",
       "2     B         need help cancel order    ORDER  cancel_order   \n",
       "3   BIP              help cancel order    ORDER  cancel_order   \n",
       "4     B           problem cancel order    ORDER  cancel_order   \n",
       "\n",
       "                                      semantic_value  semantic_value_vec_norm  \n",
       "0  [ 0.9792027   1.7512335  -2.1456368  -0.207200...                34.474487  \n",
       "1  [ 1.818227   -0.20782498 -1.0179275  -0.259152...                36.865709  \n",
       "2  [ 3.3943768   2.520625   -4.8734274  -0.143539...                42.555865  \n",
       "3  [ 1.948936    1.3805002  -4.733937    0.601046...                40.969231  \n",
       "4  [ 0.9792027   1.7512335  -2.1456368  -0.207200...                34.474487  "
      ]
     },
     "execution_count": 5,
     "metadata": {},
     "output_type": "execute_result"
    }
   ],
   "source": [
    "df.head()"
   ]
  },
  {
   "cell_type": "code",
   "execution_count": 52,
   "id": "5ddc0b5f",
   "metadata": {},
   "outputs": [],
   "source": [
    "#Lemmas train/ test data split\n",
    "X = df['utterance']\n",
    "y = df['category']\n",
    "X_lemma_train, X_lemma_test, y_lemma_train, y_lemma_test = train_test_split(X,y, stratify= df[['category']], test_size=0.33, random_state=42)"
   ]
  },
  {
   "cell_type": "code",
   "execution_count": 51,
   "id": "a632b4fe",
   "metadata": {},
   "outputs": [],
   "source": [
    "#Vector norms train/ test data split\n",
    "X = df['semantic_value_vec_norm']\n",
    "y = df['category']\n",
    "X_norm_train, X_norm_test, y_norm_train, y_norm_test = train_test_split(X.values.reshape(-1,1),\\\n",
    "                                                                        y.values.reshape(-1,1),\\\n",
    "                                                                        stratify= df[['category']], test_size=0.33, random_state=42)"
   ]
  },
  {
   "cell_type": "code",
   "execution_count": 55,
   "id": "a3d85b0a",
   "metadata": {},
   "outputs": [],
   "source": [
    "#Vector arrays train/test data split\n",
    "X = df['semantic_value']\n",
    "y = df['category']\n",
    "X_vect_train, X_vect_test, y_vect_train, y_vects_test = train_test_split(X,y, stratify= df[['category']], test_size=0.33, random_state=42)"
   ]
  },
  {
   "cell_type": "code",
   "execution_count": 7,
   "id": "46465b42",
   "metadata": {},
   "outputs": [],
   "source": [
    "#TFIDF vectorizer pipeline object\n",
    "tfidf_lsvc = Pipeline([('tfidf', TfidfVectorizer()),('clf', LinearSVC())])"
   ]
  },
  {
   "cell_type": "code",
   "execution_count": 49,
   "id": "81883a28",
   "metadata": {},
   "outputs": [],
   "source": [
    "#vector arrays svc\n",
    "vects_lsvc = LinearSVC()"
   ]
  },
  {
   "cell_type": "code",
   "execution_count": 25,
   "id": "81d8e475",
   "metadata": {},
   "outputs": [],
   "source": [
    "#Vector norm svc\n",
    "norm_lsvc = LinearSVC()"
   ]
  },
  {
   "cell_type": "code",
   "execution_count": 10,
   "id": "8e474e97",
   "metadata": {},
   "outputs": [
    {
     "data": {
      "text/html": [
       "<style>#sk-container-id-1 {color: black;background-color: white;}#sk-container-id-1 pre{padding: 0;}#sk-container-id-1 div.sk-toggleable {background-color: white;}#sk-container-id-1 label.sk-toggleable__label {cursor: pointer;display: block;width: 100%;margin-bottom: 0;padding: 0.3em;box-sizing: border-box;text-align: center;}#sk-container-id-1 label.sk-toggleable__label-arrow:before {content: \"▸\";float: left;margin-right: 0.25em;color: #696969;}#sk-container-id-1 label.sk-toggleable__label-arrow:hover:before {color: black;}#sk-container-id-1 div.sk-estimator:hover label.sk-toggleable__label-arrow:before {color: black;}#sk-container-id-1 div.sk-toggleable__content {max-height: 0;max-width: 0;overflow: hidden;text-align: left;background-color: #f0f8ff;}#sk-container-id-1 div.sk-toggleable__content pre {margin: 0.2em;color: black;border-radius: 0.25em;background-color: #f0f8ff;}#sk-container-id-1 input.sk-toggleable__control:checked~div.sk-toggleable__content {max-height: 200px;max-width: 100%;overflow: auto;}#sk-container-id-1 input.sk-toggleable__control:checked~label.sk-toggleable__label-arrow:before {content: \"▾\";}#sk-container-id-1 div.sk-estimator input.sk-toggleable__control:checked~label.sk-toggleable__label {background-color: #d4ebff;}#sk-container-id-1 div.sk-label input.sk-toggleable__control:checked~label.sk-toggleable__label {background-color: #d4ebff;}#sk-container-id-1 input.sk-hidden--visually {border: 0;clip: rect(1px 1px 1px 1px);clip: rect(1px, 1px, 1px, 1px);height: 1px;margin: -1px;overflow: hidden;padding: 0;position: absolute;width: 1px;}#sk-container-id-1 div.sk-estimator {font-family: monospace;background-color: #f0f8ff;border: 1px dotted black;border-radius: 0.25em;box-sizing: border-box;margin-bottom: 0.5em;}#sk-container-id-1 div.sk-estimator:hover {background-color: #d4ebff;}#sk-container-id-1 div.sk-parallel-item::after {content: \"\";width: 100%;border-bottom: 1px solid gray;flex-grow: 1;}#sk-container-id-1 div.sk-label:hover label.sk-toggleable__label {background-color: #d4ebff;}#sk-container-id-1 div.sk-serial::before {content: \"\";position: absolute;border-left: 1px solid gray;box-sizing: border-box;top: 0;bottom: 0;left: 50%;z-index: 0;}#sk-container-id-1 div.sk-serial {display: flex;flex-direction: column;align-items: center;background-color: white;padding-right: 0.2em;padding-left: 0.2em;position: relative;}#sk-container-id-1 div.sk-item {position: relative;z-index: 1;}#sk-container-id-1 div.sk-parallel {display: flex;align-items: stretch;justify-content: center;background-color: white;position: relative;}#sk-container-id-1 div.sk-item::before, #sk-container-id-1 div.sk-parallel-item::before {content: \"\";position: absolute;border-left: 1px solid gray;box-sizing: border-box;top: 0;bottom: 0;left: 50%;z-index: -1;}#sk-container-id-1 div.sk-parallel-item {display: flex;flex-direction: column;z-index: 1;position: relative;background-color: white;}#sk-container-id-1 div.sk-parallel-item:first-child::after {align-self: flex-end;width: 50%;}#sk-container-id-1 div.sk-parallel-item:last-child::after {align-self: flex-start;width: 50%;}#sk-container-id-1 div.sk-parallel-item:only-child::after {width: 0;}#sk-container-id-1 div.sk-dashed-wrapped {border: 1px dashed gray;margin: 0 0.4em 0.5em 0.4em;box-sizing: border-box;padding-bottom: 0.4em;background-color: white;}#sk-container-id-1 div.sk-label label {font-family: monospace;font-weight: bold;display: inline-block;line-height: 1.2em;}#sk-container-id-1 div.sk-label-container {text-align: center;}#sk-container-id-1 div.sk-container {/* jupyter's `normalize.less` sets `[hidden] { display: none; }` but bootstrap.min.css set `[hidden] { display: none !important; }` so we also need the `!important` here to be able to override the default hidden behavior on the sphinx rendered scikit-learn.org. See: https://github.com/scikit-learn/scikit-learn/issues/21755 */display: inline-block !important;position: relative;}#sk-container-id-1 div.sk-text-repr-fallback {display: none;}</style><div id=\"sk-container-id-1\" class=\"sk-top-container\"><div class=\"sk-text-repr-fallback\"><pre>Pipeline(steps=[(&#x27;tfidf&#x27;, TfidfVectorizer()), (&#x27;clf&#x27;, LinearSVC())])</pre><b>In a Jupyter environment, please rerun this cell to show the HTML representation or trust the notebook. <br />On GitHub, the HTML representation is unable to render, please try loading this page with nbviewer.org.</b></div><div class=\"sk-container\" hidden><div class=\"sk-item sk-dashed-wrapped\"><div class=\"sk-label-container\"><div class=\"sk-label sk-toggleable\"><input class=\"sk-toggleable__control sk-hidden--visually\" id=\"sk-estimator-id-1\" type=\"checkbox\" ><label for=\"sk-estimator-id-1\" class=\"sk-toggleable__label sk-toggleable__label-arrow\">Pipeline</label><div class=\"sk-toggleable__content\"><pre>Pipeline(steps=[(&#x27;tfidf&#x27;, TfidfVectorizer()), (&#x27;clf&#x27;, LinearSVC())])</pre></div></div></div><div class=\"sk-serial\"><div class=\"sk-item\"><div class=\"sk-estimator sk-toggleable\"><input class=\"sk-toggleable__control sk-hidden--visually\" id=\"sk-estimator-id-2\" type=\"checkbox\" ><label for=\"sk-estimator-id-2\" class=\"sk-toggleable__label sk-toggleable__label-arrow\">TfidfVectorizer</label><div class=\"sk-toggleable__content\"><pre>TfidfVectorizer()</pre></div></div></div><div class=\"sk-item\"><div class=\"sk-estimator sk-toggleable\"><input class=\"sk-toggleable__control sk-hidden--visually\" id=\"sk-estimator-id-3\" type=\"checkbox\" ><label for=\"sk-estimator-id-3\" class=\"sk-toggleable__label sk-toggleable__label-arrow\">LinearSVC</label><div class=\"sk-toggleable__content\"><pre>LinearSVC()</pre></div></div></div></div></div></div></div>"
      ],
      "text/plain": [
       "Pipeline(steps=[('tfidf', TfidfVectorizer()), ('clf', LinearSVC())])"
      ]
     },
     "execution_count": 10,
     "metadata": {},
     "output_type": "execute_result"
    }
   ],
   "source": [
    "#Fit models\n",
    "tfidf_lsvc.fit(X_lemma_train, y_lemma_train)"
   ]
  },
  {
   "cell_type": "code",
   "execution_count": 56,
   "id": "463805f8",
   "metadata": {},
   "outputs": [
    {
     "ename": "ValueError",
     "evalue": "could not convert string to float: '[-8.2169998e-01 -1.1431099e+00 -1.6279197e-01  1.0027550e+00\\n  2.8033800e+00  1.6391749e+00  4.8935854e-01  2.4603500e+00\\n -4.7821999e+00  6.4871067e-01  7.3257499e+00  1.9817600e+00\\n -4.7198429e+00  2.7761250e+00 -3.1727749e-01  8.7810749e-01\\n  5.0738649e+00  6.4392501e-01 -2.1116025e+00 -1.2926999e-01\\n -2.4107499e+00 -1.6146250e+00 -2.4929500e+00  1.1357999e+00\\n -2.5620897e+00 -1.7825216e-03 -1.1287129e+00 -3.3193499e-01\\n -2.0285755e-01 -1.3964874e-01  3.0693700e+00  8.1320000e-01\\n -3.9172750e+00  6.3626254e-01  2.3026624e+00  7.9562747e-01\\n  2.5005200e+00 -1.4224000e+00  5.1962500e+00  3.1261499e+00\\n -6.3295001e-01 -3.6872494e-01 -4.7911504e-01  1.1222900e+00\\n -2.1746600e+00  9.6988499e-01  6.6352496e+00 -1.7908599e+00\\n -1.0367625e+00 -1.8334250e+00 -3.9679497e-01  1.5183300e+00\\n -1.5384250e+00 -5.0185251e+00 -3.6138501e+00  1.1648526e+00\\n -5.1686746e-01  6.3359505e-01 -1.1199981e-02  5.6995010e-01\\n  5.8163252e+00  1.0048000e+00 -2.6233737e+00 -3.8313007e-01\\n  3.0317502e+00  9.5727503e-01 -1.0461326e+00 -4.4929252e+00\\n -2.3326998e+00  4.2725248e+00 -3.8113749e+00  1.4228749e-01\\n -1.5569797e+00 -2.1191001e+00 -8.9102495e-01  3.7748001e+00\\n  1.3822246e-01  1.6066601e+00 -1.3905350e+00  5.2716422e-01\\n -1.6813675e+00  1.6951251e+00  1.5118575e+00  2.3059750e+00\\n -2.1775877e+00 -2.7909502e-01 -1.2796999e+00 -1.5087976e+00\\n  1.8662674e+00  4.5260745e-01  1.7704500e+00  2.8990400e+00\\n  1.3110875e+00 -1.3404500e-01  1.6367800e+00  7.4817502e-01\\n  1.0442717e+00 -1.8985450e+00 -3.4608251e-01  2.8989251e+00\\n  3.5159850e+00  1.8981872e+00  1.0803500e+00 -3.0583507e-01\\n -6.6687495e-01  4.8016500e+00 -2.4589226e+00 -1.6061754e+00\\n -1.0650525e+00 -1.8116150e+00  6.0617626e-01 -6.6565001e-01\\n -1.7270668e+00  1.5952749e+00  1.6028476e+00  3.4083500e+00\\n -4.1610746e+00 -5.1047492e-01 -9.9818504e-01 -9.8593748e-01\\n -3.1473000e+00 -3.1605949e+00 -1.2160375e+00  1.1905251e+00\\n -4.6854499e-01 -1.5361750e+00  9.2500496e-01 -1.3498573e+00\\n  3.2086751e+00 -1.9877499e-01 -2.1565874e+00  1.0239725e+00\\n -1.0182331e+00 -2.4484998e-01  4.9752995e-01 -2.1118824e+00\\n -1.2764378e+00 -3.0486500e+00  1.0513550e+00 -1.4562075e+00\\n -1.4417000e+00  8.8594997e-01  5.8685750e-01  6.6422498e-01\\n  1.3867999e+00 -1.3149992e-02 -4.8030502e-01 -2.1601751e+00\\n  3.0940500e-01  2.5017400e+00 -1.6678425e+00 -1.2849987e-02\\n  1.3844550e+00  4.4988245e-01  9.2224252e-01 -9.7064257e-01\\n  2.7143576e+00 -1.7740998e-01 -4.8519000e-01 -2.3497851e+00\\n -6.6828001e-01 -1.0400000e+00 -1.3082535e+00  5.8149749e-01\\n -9.3842250e-01 -1.9977651e+00 -4.6174250e+00  5.3101498e-01\\n -2.6775062e-02  9.2319500e-01 -1.9791101e+00  1.0661750e+00\\n  6.4952004e-01 -1.4567001e+00  4.1283002e+00  8.1600499e-01\\n -1.8233001e-01  2.7220249e+00 -8.4054744e-01 -1.7722300e+00\\n  3.3949199e+00  1.3393499e+00  4.0176501e+00 -1.6294725e+00\\n -2.3998278e-01 -1.8036698e+00 -2.1481149e+00 -1.8917326e+00\\n  1.2912725e+00  3.8729999e+00 -2.4755199e+00 -1.4514275e-01\\n -3.4888501e+00 -1.3239574e+00 -1.9627500e-01 -3.8169754e-01\\n -3.0038300e+00 -1.4048851e+00  7.7994454e-01 -7.0852506e-01\\n -6.0632496e+00 -2.8724250e-01 -1.0976901e+00  2.6780751e-01\\n  2.1206501e+00  6.0686249e-01 -2.9637632e+00  1.7258625e+00\\n  2.0125775e+00  4.1294250e-01 -1.2904050e+00 -9.5650005e-01\\n  7.0932508e-02  1.5758801e+00 -1.9983598e+00  1.0388834e+00\\n  1.9310625e+00 -1.1804225e+00 -4.7465760e-01  3.7630000e+00\\n -2.5573063e+00  4.0353501e-01  1.6064800e+00 -2.9779646e+00\\n  3.7245002e-01 -3.7177050e+00 -4.1652495e-01  2.7348499e+00\\n  9.9230003e-01  1.0381250e+00  5.3352499e-01 -5.2792501e+00\\n -8.0853999e-01  2.8505501e-01  9.0813249e-01  1.5303099e+00\\n -2.3513751e+00 -6.1191851e-01  1.3687800e+00 -2.3753223e-01\\n -3.3628998e+00 -1.6851875e+00 -1.5312750e+00  2.2144575e+00\\n  9.7529757e-01 -1.4322251e-01 -1.6448799e+00 -4.1800010e-01\\n  3.2307625e+00  7.5754499e-01 -1.7578751e+00 -2.9972751e+00\\n -3.5619750e+00 -4.1542001e+00  1.1653750e+00 -2.2385049e+00\\n  8.2141244e-01 -1.7713001e+00  5.6291002e-01  3.2085752e-01\\n -4.4851251e+00  5.9996247e+00 -8.4476745e-01  8.2475495e-01\\n  1.5801876e+00  5.7529569e-01 -3.8961247e-01  9.0345496e-01\\n -4.2053251e+00 -1.5334924e+00 -9.6945739e-01 -4.0871200e-01\\n  9.4034505e-01 -8.0332154e-01  1.5872500e+00 -4.9535999e+00\\n -1.8768026e+00 -1.0439125e+00 -1.4459500e+00  2.5861051e+00\\n  1.6410500e+00  6.7271250e-01  6.4953506e-01 -5.1312250e-01\\n  1.2094650e+00 -1.7460126e+00  2.2389774e+00  1.6213801e+00\\n -3.1972001e+00 -1.1646250e-01  1.7890126e+00 -8.9114249e-01\\n  2.0454850e+00  1.7557502e-01 -1.6058912e+00  1.8609875e+00\\n -1.8667492e-01 -6.0366994e-01  2.2520006e-02  4.9940103e-01]'",
     "output_type": "error",
     "traceback": [
      "\u001b[1;31m---------------------------------------------------------------------------\u001b[0m",
      "\u001b[1;31mValueError\u001b[0m                                Traceback (most recent call last)",
      "\u001b[1;32m~\\AppData\\Local\\Temp\\ipykernel_7328\\114027590.py\u001b[0m in \u001b[0;36m<module>\u001b[1;34m\u001b[0m\n\u001b[1;32m----> 1\u001b[1;33m \u001b[0mvects_lsvc\u001b[0m\u001b[1;33m.\u001b[0m\u001b[0mfit\u001b[0m\u001b[1;33m(\u001b[0m\u001b[0mX_vect_train\u001b[0m\u001b[1;33m,\u001b[0m \u001b[0my_vect_train\u001b[0m\u001b[1;33m)\u001b[0m\u001b[1;33m\u001b[0m\u001b[1;33m\u001b[0m\u001b[0m\n\u001b[0m",
      "\u001b[1;32m~\\anaconda3\\lib\\site-packages\\sklearn\\svm\\_classes.py\u001b[0m in \u001b[0;36mfit\u001b[1;34m(self, X, y, sample_weight)\u001b[0m\n\u001b[0;32m    261\u001b[0m         \u001b[0mself\u001b[0m\u001b[1;33m.\u001b[0m\u001b[0m_validate_params\u001b[0m\u001b[1;33m(\u001b[0m\u001b[1;33m)\u001b[0m\u001b[1;33m\u001b[0m\u001b[1;33m\u001b[0m\u001b[0m\n\u001b[0;32m    262\u001b[0m \u001b[1;33m\u001b[0m\u001b[0m\n\u001b[1;32m--> 263\u001b[1;33m         X, y = self._validate_data(\n\u001b[0m\u001b[0;32m    264\u001b[0m             \u001b[0mX\u001b[0m\u001b[1;33m,\u001b[0m\u001b[1;33m\u001b[0m\u001b[1;33m\u001b[0m\u001b[0m\n\u001b[0;32m    265\u001b[0m             \u001b[0my\u001b[0m\u001b[1;33m,\u001b[0m\u001b[1;33m\u001b[0m\u001b[1;33m\u001b[0m\u001b[0m\n",
      "\u001b[1;32m~\\anaconda3\\lib\\site-packages\\sklearn\\base.py\u001b[0m in \u001b[0;36m_validate_data\u001b[1;34m(self, X, y, reset, validate_separately, **check_params)\u001b[0m\n\u001b[0;32m    582\u001b[0m                 \u001b[0my\u001b[0m \u001b[1;33m=\u001b[0m \u001b[0mcheck_array\u001b[0m\u001b[1;33m(\u001b[0m\u001b[0my\u001b[0m\u001b[1;33m,\u001b[0m \u001b[0minput_name\u001b[0m\u001b[1;33m=\u001b[0m\u001b[1;34m\"y\"\u001b[0m\u001b[1;33m,\u001b[0m \u001b[1;33m**\u001b[0m\u001b[0mcheck_y_params\u001b[0m\u001b[1;33m)\u001b[0m\u001b[1;33m\u001b[0m\u001b[1;33m\u001b[0m\u001b[0m\n\u001b[0;32m    583\u001b[0m             \u001b[1;32melse\u001b[0m\u001b[1;33m:\u001b[0m\u001b[1;33m\u001b[0m\u001b[1;33m\u001b[0m\u001b[0m\n\u001b[1;32m--> 584\u001b[1;33m                 \u001b[0mX\u001b[0m\u001b[1;33m,\u001b[0m \u001b[0my\u001b[0m \u001b[1;33m=\u001b[0m \u001b[0mcheck_X_y\u001b[0m\u001b[1;33m(\u001b[0m\u001b[0mX\u001b[0m\u001b[1;33m,\u001b[0m \u001b[0my\u001b[0m\u001b[1;33m,\u001b[0m \u001b[1;33m**\u001b[0m\u001b[0mcheck_params\u001b[0m\u001b[1;33m)\u001b[0m\u001b[1;33m\u001b[0m\u001b[1;33m\u001b[0m\u001b[0m\n\u001b[0m\u001b[0;32m    585\u001b[0m             \u001b[0mout\u001b[0m \u001b[1;33m=\u001b[0m \u001b[0mX\u001b[0m\u001b[1;33m,\u001b[0m \u001b[0my\u001b[0m\u001b[1;33m\u001b[0m\u001b[1;33m\u001b[0m\u001b[0m\n\u001b[0;32m    586\u001b[0m \u001b[1;33m\u001b[0m\u001b[0m\n",
      "\u001b[1;32m~\\anaconda3\\lib\\site-packages\\sklearn\\utils\\validation.py\u001b[0m in \u001b[0;36mcheck_X_y\u001b[1;34m(X, y, accept_sparse, accept_large_sparse, dtype, order, copy, force_all_finite, ensure_2d, allow_nd, multi_output, ensure_min_samples, ensure_min_features, y_numeric, estimator)\u001b[0m\n\u001b[0;32m   1104\u001b[0m         )\n\u001b[0;32m   1105\u001b[0m \u001b[1;33m\u001b[0m\u001b[0m\n\u001b[1;32m-> 1106\u001b[1;33m     X = check_array(\n\u001b[0m\u001b[0;32m   1107\u001b[0m         \u001b[0mX\u001b[0m\u001b[1;33m,\u001b[0m\u001b[1;33m\u001b[0m\u001b[1;33m\u001b[0m\u001b[0m\n\u001b[0;32m   1108\u001b[0m         \u001b[0maccept_sparse\u001b[0m\u001b[1;33m=\u001b[0m\u001b[0maccept_sparse\u001b[0m\u001b[1;33m,\u001b[0m\u001b[1;33m\u001b[0m\u001b[1;33m\u001b[0m\u001b[0m\n",
      "\u001b[1;32m~\\anaconda3\\lib\\site-packages\\sklearn\\utils\\validation.py\u001b[0m in \u001b[0;36mcheck_array\u001b[1;34m(array, accept_sparse, accept_large_sparse, dtype, order, copy, force_all_finite, ensure_2d, allow_nd, ensure_min_samples, ensure_min_features, estimator, input_name)\u001b[0m\n\u001b[0;32m    877\u001b[0m                     \u001b[0marray\u001b[0m \u001b[1;33m=\u001b[0m \u001b[0mxp\u001b[0m\u001b[1;33m.\u001b[0m\u001b[0mastype\u001b[0m\u001b[1;33m(\u001b[0m\u001b[0marray\u001b[0m\u001b[1;33m,\u001b[0m \u001b[0mdtype\u001b[0m\u001b[1;33m,\u001b[0m \u001b[0mcopy\u001b[0m\u001b[1;33m=\u001b[0m\u001b[1;32mFalse\u001b[0m\u001b[1;33m)\u001b[0m\u001b[1;33m\u001b[0m\u001b[1;33m\u001b[0m\u001b[0m\n\u001b[0;32m    878\u001b[0m                 \u001b[1;32melse\u001b[0m\u001b[1;33m:\u001b[0m\u001b[1;33m\u001b[0m\u001b[1;33m\u001b[0m\u001b[0m\n\u001b[1;32m--> 879\u001b[1;33m                     \u001b[0marray\u001b[0m \u001b[1;33m=\u001b[0m \u001b[0m_asarray_with_order\u001b[0m\u001b[1;33m(\u001b[0m\u001b[0marray\u001b[0m\u001b[1;33m,\u001b[0m \u001b[0morder\u001b[0m\u001b[1;33m=\u001b[0m\u001b[0morder\u001b[0m\u001b[1;33m,\u001b[0m \u001b[0mdtype\u001b[0m\u001b[1;33m=\u001b[0m\u001b[0mdtype\u001b[0m\u001b[1;33m,\u001b[0m \u001b[0mxp\u001b[0m\u001b[1;33m=\u001b[0m\u001b[0mxp\u001b[0m\u001b[1;33m)\u001b[0m\u001b[1;33m\u001b[0m\u001b[1;33m\u001b[0m\u001b[0m\n\u001b[0m\u001b[0;32m    880\u001b[0m             \u001b[1;32mexcept\u001b[0m \u001b[0mComplexWarning\u001b[0m \u001b[1;32mas\u001b[0m \u001b[0mcomplex_warning\u001b[0m\u001b[1;33m:\u001b[0m\u001b[1;33m\u001b[0m\u001b[1;33m\u001b[0m\u001b[0m\n\u001b[0;32m    881\u001b[0m                 raise ValueError(\n",
      "\u001b[1;32m~\\anaconda3\\lib\\site-packages\\sklearn\\utils\\_array_api.py\u001b[0m in \u001b[0;36m_asarray_with_order\u001b[1;34m(array, dtype, order, copy, xp)\u001b[0m\n\u001b[0;32m    183\u001b[0m     \u001b[1;32mif\u001b[0m \u001b[0mxp\u001b[0m\u001b[1;33m.\u001b[0m\u001b[0m__name__\u001b[0m \u001b[1;32min\u001b[0m \u001b[1;33m{\u001b[0m\u001b[1;34m\"numpy\"\u001b[0m\u001b[1;33m,\u001b[0m \u001b[1;34m\"numpy.array_api\"\u001b[0m\u001b[1;33m}\u001b[0m\u001b[1;33m:\u001b[0m\u001b[1;33m\u001b[0m\u001b[1;33m\u001b[0m\u001b[0m\n\u001b[0;32m    184\u001b[0m         \u001b[1;31m# Use NumPy API to support order\u001b[0m\u001b[1;33m\u001b[0m\u001b[1;33m\u001b[0m\u001b[0m\n\u001b[1;32m--> 185\u001b[1;33m         \u001b[0marray\u001b[0m \u001b[1;33m=\u001b[0m \u001b[0mnumpy\u001b[0m\u001b[1;33m.\u001b[0m\u001b[0masarray\u001b[0m\u001b[1;33m(\u001b[0m\u001b[0marray\u001b[0m\u001b[1;33m,\u001b[0m \u001b[0morder\u001b[0m\u001b[1;33m=\u001b[0m\u001b[0morder\u001b[0m\u001b[1;33m,\u001b[0m \u001b[0mdtype\u001b[0m\u001b[1;33m=\u001b[0m\u001b[0mdtype\u001b[0m\u001b[1;33m)\u001b[0m\u001b[1;33m\u001b[0m\u001b[1;33m\u001b[0m\u001b[0m\n\u001b[0m\u001b[0;32m    186\u001b[0m         \u001b[1;32mreturn\u001b[0m \u001b[0mxp\u001b[0m\u001b[1;33m.\u001b[0m\u001b[0masarray\u001b[0m\u001b[1;33m(\u001b[0m\u001b[0marray\u001b[0m\u001b[1;33m,\u001b[0m \u001b[0mcopy\u001b[0m\u001b[1;33m=\u001b[0m\u001b[0mcopy\u001b[0m\u001b[1;33m)\u001b[0m\u001b[1;33m\u001b[0m\u001b[1;33m\u001b[0m\u001b[0m\n\u001b[0;32m    187\u001b[0m     \u001b[1;32melse\u001b[0m\u001b[1;33m:\u001b[0m\u001b[1;33m\u001b[0m\u001b[1;33m\u001b[0m\u001b[0m\n",
      "\u001b[1;32m~\\anaconda3\\lib\\site-packages\\pandas\\core\\series.py\u001b[0m in \u001b[0;36m__array__\u001b[1;34m(self, dtype)\u001b[0m\n\u001b[0;32m    870\u001b[0m               dtype='datetime64[ns]')\n\u001b[0;32m    871\u001b[0m         \"\"\"\n\u001b[1;32m--> 872\u001b[1;33m         \u001b[1;32mreturn\u001b[0m \u001b[0mnp\u001b[0m\u001b[1;33m.\u001b[0m\u001b[0masarray\u001b[0m\u001b[1;33m(\u001b[0m\u001b[0mself\u001b[0m\u001b[1;33m.\u001b[0m\u001b[0m_values\u001b[0m\u001b[1;33m,\u001b[0m \u001b[0mdtype\u001b[0m\u001b[1;33m)\u001b[0m\u001b[1;33m\u001b[0m\u001b[1;33m\u001b[0m\u001b[0m\n\u001b[0m\u001b[0;32m    873\u001b[0m \u001b[1;33m\u001b[0m\u001b[0m\n\u001b[0;32m    874\u001b[0m     \u001b[1;31m# ----------------------------------------------------------------------\u001b[0m\u001b[1;33m\u001b[0m\u001b[1;33m\u001b[0m\u001b[0m\n",
      "\u001b[1;31mValueError\u001b[0m: could not convert string to float: '[-8.2169998e-01 -1.1431099e+00 -1.6279197e-01  1.0027550e+00\\n  2.8033800e+00  1.6391749e+00  4.8935854e-01  2.4603500e+00\\n -4.7821999e+00  6.4871067e-01  7.3257499e+00  1.9817600e+00\\n -4.7198429e+00  2.7761250e+00 -3.1727749e-01  8.7810749e-01\\n  5.0738649e+00  6.4392501e-01 -2.1116025e+00 -1.2926999e-01\\n -2.4107499e+00 -1.6146250e+00 -2.4929500e+00  1.1357999e+00\\n -2.5620897e+00 -1.7825216e-03 -1.1287129e+00 -3.3193499e-01\\n -2.0285755e-01 -1.3964874e-01  3.0693700e+00  8.1320000e-01\\n -3.9172750e+00  6.3626254e-01  2.3026624e+00  7.9562747e-01\\n  2.5005200e+00 -1.4224000e+00  5.1962500e+00  3.1261499e+00\\n -6.3295001e-01 -3.6872494e-01 -4.7911504e-01  1.1222900e+00\\n -2.1746600e+00  9.6988499e-01  6.6352496e+00 -1.7908599e+00\\n -1.0367625e+00 -1.8334250e+00 -3.9679497e-01  1.5183300e+00\\n -1.5384250e+00 -5.0185251e+00 -3.6138501e+00  1.1648526e+00\\n -5.1686746e-01  6.3359505e-01 -1.1199981e-02  5.6995010e-01\\n  5.8163252e+00  1.0048000e+00 -2.6233737e+00 -3.8313007e-01\\n  3.0317502e+00  9.5727503e-01 -1.0461326e+00 -4.4929252e+00\\n -2.3326998e+00  4.2725248e+00 -3.8113749e+00  1.4228749e-01\\n -1.5569797e+00 -2.1191001e+00 -8.9102495e-01  3.7748001e+00\\n  1.3822246e-01  1.6066601e+00 -1.3905350e+00  5.2716422e-01\\n -1.6813675e+00  1.6951251e+00  1.5118575e+00  2.3059750e+00\\n -2.1775877e+00 -2.7909502e-01 -1.2796999e+00 -1.5087976e+00\\n  1.8662674e+00  4.5260745e-01  1.7704500e+00  2.8990400e+00\\n  1.3110875e+00 -1.3404500e-01  1.6367800e+00  7.4817502e-01\\n  1.0442717e+00 -1.8985450e+00 -3.4608251e-01  2.8989251e+00\\n  3.5159850e+00  1.8981872e+00  1.0803500e+00 -3.0583507e-01\\n -6.6687495e-01  4.8016500e+00 -2.4589226e+00 -1.6061754e+00\\n -1.0650525e+00 -1.8116150e+00  6.0617626e-01 -6.6565001e-01\\n -1.7270668e+00  1.5952749e+00  1.6028476e+00  3.4083500e+00\\n -4.1610746e+00 -5.1047492e-01 -9.9818504e-01 -9.8593748e-01\\n -3.1473000e+00 -3.1605949e+00 -1.2160375e+00  1.1905251e+00\\n -4.6854499e-01 -1.5361750e+00  9.2500496e-01 -1.3498573e+00\\n  3.2086751e+00 -1.9877499e-01 -2.1565874e+00  1.0239725e+00\\n -1.0182331e+00 -2.4484998e-01  4.9752995e-01 -2.1118824e+00\\n -1.2764378e+00 -3.0486500e+00  1.0513550e+00 -1.4562075e+00\\n -1.4417000e+00  8.8594997e-01  5.8685750e-01  6.6422498e-01\\n  1.3867999e+00 -1.3149992e-02 -4.8030502e-01 -2.1601751e+00\\n  3.0940500e-01  2.5017400e+00 -1.6678425e+00 -1.2849987e-02\\n  1.3844550e+00  4.4988245e-01  9.2224252e-01 -9.7064257e-01\\n  2.7143576e+00 -1.7740998e-01 -4.8519000e-01 -2.3497851e+00\\n -6.6828001e-01 -1.0400000e+00 -1.3082535e+00  5.8149749e-01\\n -9.3842250e-01 -1.9977651e+00 -4.6174250e+00  5.3101498e-01\\n -2.6775062e-02  9.2319500e-01 -1.9791101e+00  1.0661750e+00\\n  6.4952004e-01 -1.4567001e+00  4.1283002e+00  8.1600499e-01\\n -1.8233001e-01  2.7220249e+00 -8.4054744e-01 -1.7722300e+00\\n  3.3949199e+00  1.3393499e+00  4.0176501e+00 -1.6294725e+00\\n -2.3998278e-01 -1.8036698e+00 -2.1481149e+00 -1.8917326e+00\\n  1.2912725e+00  3.8729999e+00 -2.4755199e+00 -1.4514275e-01\\n -3.4888501e+00 -1.3239574e+00 -1.9627500e-01 -3.8169754e-01\\n -3.0038300e+00 -1.4048851e+00  7.7994454e-01 -7.0852506e-01\\n -6.0632496e+00 -2.8724250e-01 -1.0976901e+00  2.6780751e-01\\n  2.1206501e+00  6.0686249e-01 -2.9637632e+00  1.7258625e+00\\n  2.0125775e+00  4.1294250e-01 -1.2904050e+00 -9.5650005e-01\\n  7.0932508e-02  1.5758801e+00 -1.9983598e+00  1.0388834e+00\\n  1.9310625e+00 -1.1804225e+00 -4.7465760e-01  3.7630000e+00\\n -2.5573063e+00  4.0353501e-01  1.6064800e+00 -2.9779646e+00\\n  3.7245002e-01 -3.7177050e+00 -4.1652495e-01  2.7348499e+00\\n  9.9230003e-01  1.0381250e+00  5.3352499e-01 -5.2792501e+00\\n -8.0853999e-01  2.8505501e-01  9.0813249e-01  1.5303099e+00\\n -2.3513751e+00 -6.1191851e-01  1.3687800e+00 -2.3753223e-01\\n -3.3628998e+00 -1.6851875e+00 -1.5312750e+00  2.2144575e+00\\n  9.7529757e-01 -1.4322251e-01 -1.6448799e+00 -4.1800010e-01\\n  3.2307625e+00  7.5754499e-01 -1.7578751e+00 -2.9972751e+00\\n -3.5619750e+00 -4.1542001e+00  1.1653750e+00 -2.2385049e+00\\n  8.2141244e-01 -1.7713001e+00  5.6291002e-01  3.2085752e-01\\n -4.4851251e+00  5.9996247e+00 -8.4476745e-01  8.2475495e-01\\n  1.5801876e+00  5.7529569e-01 -3.8961247e-01  9.0345496e-01\\n -4.2053251e+00 -1.5334924e+00 -9.6945739e-01 -4.0871200e-01\\n  9.4034505e-01 -8.0332154e-01  1.5872500e+00 -4.9535999e+00\\n -1.8768026e+00 -1.0439125e+00 -1.4459500e+00  2.5861051e+00\\n  1.6410500e+00  6.7271250e-01  6.4953506e-01 -5.1312250e-01\\n  1.2094650e+00 -1.7460126e+00  2.2389774e+00  1.6213801e+00\\n -3.1972001e+00 -1.1646250e-01  1.7890126e+00 -8.9114249e-01\\n  2.0454850e+00  1.7557502e-01 -1.6058912e+00  1.8609875e+00\\n -1.8667492e-01 -6.0366994e-01  2.2520006e-02  4.9940103e-01]'"
     ]
    }
   ],
   "source": [
    "vects_lsvc.fit(X_vect_train, y_vect_train)"
   ]
  },
  {
   "cell_type": "code",
   "execution_count": 43,
   "id": "84d16baf",
   "metadata": {},
   "outputs": [
    {
     "name": "stderr",
     "output_type": "stream",
     "text": [
      "C:\\Users\\Logan\\anaconda3\\lib\\site-packages\\sklearn\\svm\\_base.py:1244: ConvergenceWarning: Liblinear failed to converge, increase the number of iterations.\n",
      "  warnings.warn(\n"
     ]
    },
    {
     "data": {
      "text/html": [
       "<style>#sk-container-id-6 {color: black;background-color: white;}#sk-container-id-6 pre{padding: 0;}#sk-container-id-6 div.sk-toggleable {background-color: white;}#sk-container-id-6 label.sk-toggleable__label {cursor: pointer;display: block;width: 100%;margin-bottom: 0;padding: 0.3em;box-sizing: border-box;text-align: center;}#sk-container-id-6 label.sk-toggleable__label-arrow:before {content: \"▸\";float: left;margin-right: 0.25em;color: #696969;}#sk-container-id-6 label.sk-toggleable__label-arrow:hover:before {color: black;}#sk-container-id-6 div.sk-estimator:hover label.sk-toggleable__label-arrow:before {color: black;}#sk-container-id-6 div.sk-toggleable__content {max-height: 0;max-width: 0;overflow: hidden;text-align: left;background-color: #f0f8ff;}#sk-container-id-6 div.sk-toggleable__content pre {margin: 0.2em;color: black;border-radius: 0.25em;background-color: #f0f8ff;}#sk-container-id-6 input.sk-toggleable__control:checked~div.sk-toggleable__content {max-height: 200px;max-width: 100%;overflow: auto;}#sk-container-id-6 input.sk-toggleable__control:checked~label.sk-toggleable__label-arrow:before {content: \"▾\";}#sk-container-id-6 div.sk-estimator input.sk-toggleable__control:checked~label.sk-toggleable__label {background-color: #d4ebff;}#sk-container-id-6 div.sk-label input.sk-toggleable__control:checked~label.sk-toggleable__label {background-color: #d4ebff;}#sk-container-id-6 input.sk-hidden--visually {border: 0;clip: rect(1px 1px 1px 1px);clip: rect(1px, 1px, 1px, 1px);height: 1px;margin: -1px;overflow: hidden;padding: 0;position: absolute;width: 1px;}#sk-container-id-6 div.sk-estimator {font-family: monospace;background-color: #f0f8ff;border: 1px dotted black;border-radius: 0.25em;box-sizing: border-box;margin-bottom: 0.5em;}#sk-container-id-6 div.sk-estimator:hover {background-color: #d4ebff;}#sk-container-id-6 div.sk-parallel-item::after {content: \"\";width: 100%;border-bottom: 1px solid gray;flex-grow: 1;}#sk-container-id-6 div.sk-label:hover label.sk-toggleable__label {background-color: #d4ebff;}#sk-container-id-6 div.sk-serial::before {content: \"\";position: absolute;border-left: 1px solid gray;box-sizing: border-box;top: 0;bottom: 0;left: 50%;z-index: 0;}#sk-container-id-6 div.sk-serial {display: flex;flex-direction: column;align-items: center;background-color: white;padding-right: 0.2em;padding-left: 0.2em;position: relative;}#sk-container-id-6 div.sk-item {position: relative;z-index: 1;}#sk-container-id-6 div.sk-parallel {display: flex;align-items: stretch;justify-content: center;background-color: white;position: relative;}#sk-container-id-6 div.sk-item::before, #sk-container-id-6 div.sk-parallel-item::before {content: \"\";position: absolute;border-left: 1px solid gray;box-sizing: border-box;top: 0;bottom: 0;left: 50%;z-index: -1;}#sk-container-id-6 div.sk-parallel-item {display: flex;flex-direction: column;z-index: 1;position: relative;background-color: white;}#sk-container-id-6 div.sk-parallel-item:first-child::after {align-self: flex-end;width: 50%;}#sk-container-id-6 div.sk-parallel-item:last-child::after {align-self: flex-start;width: 50%;}#sk-container-id-6 div.sk-parallel-item:only-child::after {width: 0;}#sk-container-id-6 div.sk-dashed-wrapped {border: 1px dashed gray;margin: 0 0.4em 0.5em 0.4em;box-sizing: border-box;padding-bottom: 0.4em;background-color: white;}#sk-container-id-6 div.sk-label label {font-family: monospace;font-weight: bold;display: inline-block;line-height: 1.2em;}#sk-container-id-6 div.sk-label-container {text-align: center;}#sk-container-id-6 div.sk-container {/* jupyter's `normalize.less` sets `[hidden] { display: none; }` but bootstrap.min.css set `[hidden] { display: none !important; }` so we also need the `!important` here to be able to override the default hidden behavior on the sphinx rendered scikit-learn.org. See: https://github.com/scikit-learn/scikit-learn/issues/21755 */display: inline-block !important;position: relative;}#sk-container-id-6 div.sk-text-repr-fallback {display: none;}</style><div id=\"sk-container-id-6\" class=\"sk-top-container\"><div class=\"sk-text-repr-fallback\"><pre>LinearSVC()</pre><b>In a Jupyter environment, please rerun this cell to show the HTML representation or trust the notebook. <br />On GitHub, the HTML representation is unable to render, please try loading this page with nbviewer.org.</b></div><div class=\"sk-container\" hidden><div class=\"sk-item\"><div class=\"sk-estimator sk-toggleable\"><input class=\"sk-toggleable__control sk-hidden--visually\" id=\"sk-estimator-id-8\" type=\"checkbox\" checked><label for=\"sk-estimator-id-8\" class=\"sk-toggleable__label sk-toggleable__label-arrow\">LinearSVC</label><div class=\"sk-toggleable__content\"><pre>LinearSVC()</pre></div></div></div></div></div>"
      ],
      "text/plain": [
       "LinearSVC()"
      ]
     },
     "execution_count": 43,
     "metadata": {},
     "output_type": "execute_result"
    }
   ],
   "source": [
    "norm_lsvc.fit(X_norm_train, y_norm_train.ravel())"
   ]
  },
  {
   "cell_type": "code",
   "execution_count": 44,
   "id": "588151c4",
   "metadata": {},
   "outputs": [],
   "source": [
    "#Predictions for test data\n",
    "predictions_lemm = tfidf_lsvc.predict(X_lemma_test)\n",
    "predictions_norm = norm_lsvc.predict(X_norm_test)"
   ]
  },
  {
   "cell_type": "code",
   "execution_count": 35,
   "id": "c9a1e7ca",
   "metadata": {
    "scrolled": true
   },
   "outputs": [
    {
     "name": "stdout",
     "output_type": "stream",
     "text": [
      "[[584   0   2   0   0   0   0   0   0   0   0]\n",
      " [  1  97   0   0   0   0   0   0   0   0   0]\n",
      " [  0   0 197   0   0   0   0   0   0   0   0]\n",
      " [  0   0   0 199   0   0   0   0   0   0   0]\n",
      " [  0   0   1   0 201   0   0   0   0   0   0]\n",
      " [  0   0   0   0   0 214   0   0   0   0   0]\n",
      " [  0   0   0   0   0   0  97   0   0   0   0]\n",
      " [  1   0   0   1   0   0   0 401   0   0   0]\n",
      " [  0   0   0   1   0   0   0   0 204   0   0]\n",
      " [  1   0   0   0   0   0   0   0   0 297   0]\n",
      " [  0   0   0   1   0   0   0   0   0   0 198]]\n"
     ]
    }
   ],
   "source": [
    "print(metrics.confusion_matrix(y_lemma_test,predictions_lemm))"
   ]
  },
  {
   "cell_type": "code",
   "execution_count": 36,
   "id": "1346596d",
   "metadata": {},
   "outputs": [
    {
     "name": "stdout",
     "output_type": "stream",
     "text": [
      "                  precision    recall  f1-score   support\n",
      "\n",
      "         ACCOUNT       0.99      1.00      1.00       586\n",
      "CANCELLATION_FEE       1.00      0.99      0.99        98\n",
      "         CONTACT       0.98      1.00      0.99       197\n",
      "        DELIVERY       0.99      1.00      0.99       199\n",
      "        FEEDBACK       1.00      1.00      1.00       202\n",
      "         INVOICE       1.00      1.00      1.00       214\n",
      "      NEWSLETTER       1.00      1.00      1.00        97\n",
      "           ORDER       1.00      1.00      1.00       403\n",
      "         PAYMENT       1.00      1.00      1.00       205\n",
      "          REFUND       1.00      1.00      1.00       298\n",
      "SHIPPING_ADDRESS       1.00      0.99      1.00       199\n",
      "\n",
      "        accuracy                           1.00      2698\n",
      "       macro avg       1.00      1.00      1.00      2698\n",
      "    weighted avg       1.00      1.00      1.00      2698\n",
      "\n"
     ]
    }
   ],
   "source": [
    "print(metrics.classification_report(y_lemma_test,predictions_lemm))"
   ]
  },
  {
   "cell_type": "code",
   "execution_count": 47,
   "id": "ffb87ca8",
   "metadata": {},
   "outputs": [
    {
     "name": "stdout",
     "output_type": "stream",
     "text": [
      "[[  0   0   0 586   0   0   0   0   0   0   0]\n",
      " [  0   0   0  97   0   0   1   0   0   0   0]\n",
      " [  0   0   0 196   0   0   1   0   0   0   0]\n",
      " [  0   0   0 199   0   0   0   0   0   0   0]\n",
      " [  0   0   0 202   0   0   0   0   0   0   0]\n",
      " [  0   0   0 214   0   0   0   0   0   0   0]\n",
      " [  0   0   0  96   0   0   1   0   0   0   0]\n",
      " [  0   0   0 403   0   0   0   0   0   0   0]\n",
      " [  0   0   0 205   0   0   0   0   0   0   0]\n",
      " [  0   0   0 298   0   0   0   0   0   0   0]\n",
      " [  0   0   0 199   0   0   0   0   0   0   0]]\n"
     ]
    }
   ],
   "source": [
    "print(metrics.confusion_matrix(y_norm_test,predictions_norm))"
   ]
  },
  {
   "cell_type": "code",
   "execution_count": 46,
   "id": "caf862dd",
   "metadata": {},
   "outputs": [
    {
     "name": "stdout",
     "output_type": "stream",
     "text": [
      "                  precision    recall  f1-score   support\n",
      "\n",
      "         ACCOUNT       0.00      0.00      0.00       586\n",
      "CANCELLATION_FEE       0.00      0.00      0.00        98\n",
      "         CONTACT       0.00      0.00      0.00       197\n",
      "        DELIVERY       0.07      1.00      0.14       199\n",
      "        FEEDBACK       0.00      0.00      0.00       202\n",
      "         INVOICE       0.00      0.00      0.00       214\n",
      "      NEWSLETTER       0.33      0.01      0.02        97\n",
      "           ORDER       0.00      0.00      0.00       403\n",
      "         PAYMENT       0.00      0.00      0.00       205\n",
      "          REFUND       0.00      0.00      0.00       298\n",
      "SHIPPING_ADDRESS       0.00      0.00      0.00       199\n",
      "\n",
      "        accuracy                           0.07      2698\n",
      "       macro avg       0.04      0.09      0.01      2698\n",
      "    weighted avg       0.02      0.07      0.01      2698\n",
      "\n"
     ]
    },
    {
     "name": "stderr",
     "output_type": "stream",
     "text": [
      "C:\\Users\\Logan\\anaconda3\\lib\\site-packages\\sklearn\\metrics\\_classification.py:1344: UndefinedMetricWarning: Precision and F-score are ill-defined and being set to 0.0 in labels with no predicted samples. Use `zero_division` parameter to control this behavior.\n",
      "  _warn_prf(average, modifier, msg_start, len(result))\n",
      "C:\\Users\\Logan\\anaconda3\\lib\\site-packages\\sklearn\\metrics\\_classification.py:1344: UndefinedMetricWarning: Precision and F-score are ill-defined and being set to 0.0 in labels with no predicted samples. Use `zero_division` parameter to control this behavior.\n",
      "  _warn_prf(average, modifier, msg_start, len(result))\n",
      "C:\\Users\\Logan\\anaconda3\\lib\\site-packages\\sklearn\\metrics\\_classification.py:1344: UndefinedMetricWarning: Precision and F-score are ill-defined and being set to 0.0 in labels with no predicted samples. Use `zero_division` parameter to control this behavior.\n",
      "  _warn_prf(average, modifier, msg_start, len(result))\n"
     ]
    }
   ],
   "source": [
    "print(metrics.classification_report(y_norm_test,predictions_norm))"
   ]
  }
 ],
 "metadata": {
  "kernelspec": {
   "display_name": "Python 3 (ipykernel)",
   "language": "python",
   "name": "python3"
  },
  "language_info": {
   "codemirror_mode": {
    "name": "ipython",
    "version": 3
   },
   "file_extension": ".py",
   "mimetype": "text/x-python",
   "name": "python",
   "nbconvert_exporter": "python",
   "pygments_lexer": "ipython3",
   "version": "3.9.13"
  }
 },
 "nbformat": 4,
 "nbformat_minor": 5
}
