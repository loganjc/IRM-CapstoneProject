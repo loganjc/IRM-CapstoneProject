{
 "cells": [
  {
   "cell_type": "code",
   "execution_count": 2,
   "id": "ebf003e1",
   "metadata": {},
   "outputs": [
    {
     "ename": "SyntaxError",
     "evalue": "invalid syntax (<unknown>, line 1)",
     "output_type": "error",
     "traceback": [
      "Traceback \u001b[1;36m(most recent call last)\u001b[0m:\n",
      "  File \u001b[0;32m\"C:\\Users\\Logan\\anaconda3\\lib\\site-packages\\IPython\\core\\interactiveshell.py\"\u001b[0m, line \u001b[0;32m3457\u001b[0m, in \u001b[0;35mrun_code\u001b[0m\n    exec(code_obj, self.user_global_ns, self.user_ns)\n",
      "  File \u001b[0;32m\"C:\\Users\\Logan\\AppData\\Local\\Temp\\ipykernel_1896\\21974726.py\"\u001b[0m, line \u001b[0;32m13\u001b[0m, in \u001b[0;35m<module>\u001b[0m\n    df_read = pd.read_csv('example.csv', converters={'Column2': literal_eval})\n",
      "  File \u001b[0;32m\"C:\\Users\\Logan\\anaconda3\\lib\\site-packages\\pandas\\util\\_decorators.py\"\u001b[0m, line \u001b[0;32m311\u001b[0m, in \u001b[0;35mwrapper\u001b[0m\n    return func(*args, **kwargs)\n",
      "  File \u001b[0;32m\"C:\\Users\\Logan\\anaconda3\\lib\\site-packages\\pandas\\io\\parsers\\readers.py\"\u001b[0m, line \u001b[0;32m678\u001b[0m, in \u001b[0;35mread_csv\u001b[0m\n    return _read(filepath_or_buffer, kwds)\n",
      "  File \u001b[0;32m\"C:\\Users\\Logan\\anaconda3\\lib\\site-packages\\pandas\\io\\parsers\\readers.py\"\u001b[0m, line \u001b[0;32m581\u001b[0m, in \u001b[0;35m_read\u001b[0m\n    return parser.read(nrows)\n",
      "  File \u001b[0;32m\"C:\\Users\\Logan\\anaconda3\\lib\\site-packages\\pandas\\io\\parsers\\readers.py\"\u001b[0m, line \u001b[0;32m1253\u001b[0m, in \u001b[0;35mread\u001b[0m\n    index, columns, col_dict = self._engine.read(nrows)\n",
      "  File \u001b[0;32m\"C:\\Users\\Logan\\anaconda3\\lib\\site-packages\\pandas\\io\\parsers\\c_parser_wrapper.py\"\u001b[0m, line \u001b[0;32m225\u001b[0m, in \u001b[0;35mread\u001b[0m\n    chunks = self._reader.read_low_memory(nrows)\n",
      "  File \u001b[0;32m\"pandas\\_libs\\parsers.pyx\"\u001b[0m, line \u001b[0;32m805\u001b[0m, in \u001b[0;35mpandas._libs.parsers.TextReader.read_low_memory\u001b[0m\n",
      "  File \u001b[0;32m\"pandas\\_libs\\parsers.pyx\"\u001b[0m, line \u001b[0;32m883\u001b[0m, in \u001b[0;35mpandas._libs.parsers.TextReader._read_rows\u001b[0m\n",
      "  File \u001b[0;32m\"pandas\\_libs\\parsers.pyx\"\u001b[0m, line \u001b[0;32m1005\u001b[0m, in \u001b[0;35mpandas._libs.parsers.TextReader._convert_column_data\u001b[0m\n",
      "  File \u001b[0;32m\"pandas\\_libs\\parsers.pyx\"\u001b[0m, line \u001b[0;32m2014\u001b[0m, in \u001b[0;35mpandas._libs.parsers._apply_converter\u001b[0m\n",
      "  File \u001b[0;32m\"C:\\Users\\Logan\\anaconda3\\lib\\ast.py\"\u001b[0m, line \u001b[0;32m62\u001b[0m, in \u001b[0;35mliteral_eval\u001b[0m\n    node_or_string = parse(node_or_string, mode='eval')\n",
      "\u001b[1;36m  File \u001b[1;32m\"C:\\Users\\Logan\\anaconda3\\lib\\ast.py\"\u001b[1;36m, line \u001b[1;32m50\u001b[1;36m, in \u001b[1;35mparse\u001b[1;36m\u001b[0m\n\u001b[1;33m    return compile(source, filename, mode, flags,\u001b[0m\n",
      "\u001b[1;36m  File \u001b[1;32m\"<unknown>\"\u001b[1;36m, line \u001b[1;32m1\u001b[0m\n\u001b[1;33m    [4 5 6]\u001b[0m\n\u001b[1;37m       ^\u001b[0m\n\u001b[1;31mSyntaxError\u001b[0m\u001b[1;31m:\u001b[0m invalid syntax\n"
     ]
    }
   ],
   "source": [
    "import pandas as pd\n",
    "import numpy as np\n",
    "from ast import literal_eval\n",
    "\n",
    "# Create a DataFrame with an array in one of the cells\n",
    "data = {'Column1': [1, 2, 3], 'Column2': [np.array([4, 5, 6]), np.array([7, 8, 9]), np.array([10, 11, 12])]}\n",
    "df = pd.DataFrame(data)\n",
    "\n",
    "# Save the DataFrame to a CSV file\n",
    "df.to_csv('example.csv', index=False)\n",
    "\n",
    "# Read the CSV file back into a DataFrame\n",
    "df_read = pd.read_csv('example.csv', converters={'Column2': literal_eval})\n",
    "\n",
    "# Display the original and read DataFrames\n",
    "print(\"Original DataFrame:\")\n",
    "print(df)\n",
    "print(\"\\nDataFrame read from CSV:\")\n",
    "print(df_read)"
   ]
  },
  {
   "cell_type": "code",
   "execution_count": 3,
   "id": "ace0767d",
   "metadata": {},
   "outputs": [
    {
     "ename": "SyntaxError",
     "evalue": "invalid syntax (<unknown>, line 1)",
     "output_type": "error",
     "traceback": [
      "Traceback \u001b[1;36m(most recent call last)\u001b[0m:\n",
      "  File \u001b[0;32m\"C:\\Users\\Logan\\anaconda3\\lib\\site-packages\\IPython\\core\\interactiveshell.py\"\u001b[0m, line \u001b[0;32m3457\u001b[0m, in \u001b[0;35mrun_code\u001b[0m\n    exec(code_obj, self.user_global_ns, self.user_ns)\n",
      "  File \u001b[0;32m\"C:\\Users\\Logan\\AppData\\Local\\Temp\\ipykernel_1896\\907722618.py\"\u001b[0m, line \u001b[0;32m16\u001b[0m, in \u001b[0;35m<module>\u001b[0m\n    df_read = pd.read_csv('example.csv', converters={'Column2': literal_eval})\n",
      "  File \u001b[0;32m\"C:\\Users\\Logan\\anaconda3\\lib\\site-packages\\pandas\\util\\_decorators.py\"\u001b[0m, line \u001b[0;32m311\u001b[0m, in \u001b[0;35mwrapper\u001b[0m\n    return func(*args, **kwargs)\n",
      "  File \u001b[0;32m\"C:\\Users\\Logan\\anaconda3\\lib\\site-packages\\pandas\\io\\parsers\\readers.py\"\u001b[0m, line \u001b[0;32m678\u001b[0m, in \u001b[0;35mread_csv\u001b[0m\n    return _read(filepath_or_buffer, kwds)\n",
      "  File \u001b[0;32m\"C:\\Users\\Logan\\anaconda3\\lib\\site-packages\\pandas\\io\\parsers\\readers.py\"\u001b[0m, line \u001b[0;32m581\u001b[0m, in \u001b[0;35m_read\u001b[0m\n    return parser.read(nrows)\n",
      "  File \u001b[0;32m\"C:\\Users\\Logan\\anaconda3\\lib\\site-packages\\pandas\\io\\parsers\\readers.py\"\u001b[0m, line \u001b[0;32m1253\u001b[0m, in \u001b[0;35mread\u001b[0m\n    index, columns, col_dict = self._engine.read(nrows)\n",
      "  File \u001b[0;32m\"C:\\Users\\Logan\\anaconda3\\lib\\site-packages\\pandas\\io\\parsers\\c_parser_wrapper.py\"\u001b[0m, line \u001b[0;32m225\u001b[0m, in \u001b[0;35mread\u001b[0m\n    chunks = self._reader.read_low_memory(nrows)\n",
      "  File \u001b[0;32m\"pandas\\_libs\\parsers.pyx\"\u001b[0m, line \u001b[0;32m805\u001b[0m, in \u001b[0;35mpandas._libs.parsers.TextReader.read_low_memory\u001b[0m\n",
      "  File \u001b[0;32m\"pandas\\_libs\\parsers.pyx\"\u001b[0m, line \u001b[0;32m883\u001b[0m, in \u001b[0;35mpandas._libs.parsers.TextReader._read_rows\u001b[0m\n",
      "  File \u001b[0;32m\"pandas\\_libs\\parsers.pyx\"\u001b[0m, line \u001b[0;32m1005\u001b[0m, in \u001b[0;35mpandas._libs.parsers.TextReader._convert_column_data\u001b[0m\n",
      "  File \u001b[0;32m\"pandas\\_libs\\parsers.pyx\"\u001b[0m, line \u001b[0;32m2014\u001b[0m, in \u001b[0;35mpandas._libs.parsers._apply_converter\u001b[0m\n",
      "  File \u001b[0;32m\"C:\\Users\\Logan\\anaconda3\\lib\\ast.py\"\u001b[0m, line \u001b[0;32m62\u001b[0m, in \u001b[0;35mliteral_eval\u001b[0m\n    node_or_string = parse(node_or_string, mode='eval')\n",
      "\u001b[1;36m  File \u001b[1;32m\"C:\\Users\\Logan\\anaconda3\\lib\\ast.py\"\u001b[1;36m, line \u001b[1;32m50\u001b[1;36m, in \u001b[1;35mparse\u001b[1;36m\u001b[0m\n\u001b[1;33m    return compile(source, filename, mode, flags,\u001b[0m\n",
      "\u001b[1;36m  File \u001b[1;32m\"<unknown>\"\u001b[1;36m, line \u001b[1;32m1\u001b[0m\n\u001b[1;33m    [4 5 6]\u001b[0m\n\u001b[1;37m       ^\u001b[0m\n\u001b[1;31mSyntaxError\u001b[0m\u001b[1;31m:\u001b[0m invalid syntax\n"
     ]
    }
   ],
   "source": [
    "import pandas as pd\n",
    "import numpy as np\n",
    "from ast import literal_eval\n",
    "\n",
    "# Create a DataFrame with an array in one of the cells\n",
    "data = {'Column1': [1, 2, 3], 'Column2': [np.array([4, 5, 6]), np.array([7, 8, 9]), np.array([10, 11, 12])]}\n",
    "df = pd.DataFrame(data)\n",
    "\n",
    "# Convert the arrays to strings before saving\n",
    "df['Column2'] = df['Column2'].apply(str)\n",
    "\n",
    "# Save the DataFrame to a CSV file\n",
    "df.to_csv('example.csv', index=False)\n",
    "\n",
    "# Read the CSV file back into a DataFrame\n",
    "df_read = pd.read_csv('example.csv', converters={'Column2': literal_eval})\n",
    "\n",
    "# Display the original and read DataFrames\n",
    "print(\"Original DataFrame:\")\n",
    "print(df)\n",
    "print(\"\\nDataFrame read from CSV:\")\n",
    "print(df_read)\n"
   ]
  }
 ],
 "metadata": {
  "kernelspec": {
   "display_name": "Python 3 (ipykernel)",
   "language": "python",
   "name": "python3"
  },
  "language_info": {
   "codemirror_mode": {
    "name": "ipython",
    "version": 3
   },
   "file_extension": ".py",
   "mimetype": "text/x-python",
   "name": "python",
   "nbconvert_exporter": "python",
   "pygments_lexer": "ipython3",
   "version": "3.9.13"
  }
 },
 "nbformat": 4,
 "nbformat_minor": 5
}
