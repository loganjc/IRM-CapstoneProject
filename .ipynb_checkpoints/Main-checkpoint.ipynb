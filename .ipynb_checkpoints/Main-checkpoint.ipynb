{
 "cells": [
  {
   "cell_type": "code",
   "execution_count": 1,
   "id": "e9debb01",
   "metadata": {},
   "outputs": [],
   "source": [
    "import spacy\n",
    "from joblib import load\n",
    "import text_processing"
   ]
  },
  {
   "cell_type": "code",
   "execution_count": 33,
   "id": "e26511ed",
   "metadata": {},
   "outputs": [
    {
     "data": {
      "text/plain": [
       "'\\nThis module is the Main module which actually produces a category as output in response to novel text input.\\n\\nThe module utilizes serialized pipeline and ML components to prevent the need for the user to have the datasets and\\nSpaCy language libraries.\\n'"
      ]
     },
     "execution_count": 33,
     "metadata": {},
     "output_type": "execute_result"
    }
   ],
   "source": [
    "'''\n",
    "This module is the Main module which actually produces a category as output in response to novel text input.\n",
    "\n",
    "The module utilizes serialized pipeline and ML components to prevent the need for the user to have the datasets and\n",
    "SpaCy language libraries.\n",
    "\n",
    "Currently the module runs a simple command line interface test method which allows a user to test the output of the model\n",
    "in response to manually inputted novel text.\n",
    "'''"
   ]
  },
  {
   "cell_type": "code",
   "execution_count": 3,
   "id": "e55a7c58",
   "metadata": {},
   "outputs": [],
   "source": [
    "#Load in serialized spacy pipeline and trained models\n",
    "nlp = load(\"spacy_nlp.txt\")\n",
    "tfidf_lsvc = load(\"fitted_model.txt\")"
   ]
  },
  {
   "cell_type": "code",
   "execution_count": 6,
   "id": "a41c791f",
   "metadata": {},
   "outputs": [],
   "source": [
    "input_processor = text_processing.Text_Pre_Processor(nlp)"
   ]
  },
  {
   "cell_type": "code",
   "execution_count": 24,
   "id": "35e62f35",
   "metadata": {},
   "outputs": [],
   "source": [
    "#Takes text input, returns output category as a text string\n",
    "class Categorizer:\n",
    "    '''\n",
    "    \n",
    "    \n",
    "    '''\n",
    "    def process_input_text(text):\n",
    "        #treat incoming text\n",
    "        doc = input_processor.process(text)\n",
    "        lemmas = []\n",
    "        for token in doc:\n",
    "            lemmas.append(token.text)\n",
    "        output_text = \" \".join(lemmas)\n",
    "        output_text = [output_text]\n",
    "        #collect model predictions\n",
    "        tfidf_lsvc_prediction = tfidf_lsvc.predict(output_text)\n",
    "        #compare predictions\n",
    "        \n",
    "        #output prediciton\n",
    "        return tfidf_lsvc_prediction[0]"
   ]
  },
  {
   "cell_type": "code",
   "execution_count": 30,
   "id": "78996cfd",
   "metadata": {},
   "outputs": [],
   "source": [
    "class ClassificationHandler:\n",
    "    '''\n",
    "    Class to process results of categorization.\n",
    "    Currently methods are stubs to demonstrate the structure of the class.\n",
    "    Proper implementation of class in business software would likely place API calls to ticketing or response system here.\n",
    "    \n",
    "    Methods:\n",
    "    process_classification\n",
    "    '''\n",
    "    def process_classification(category):\n",
    "        if category == \"ORDER\":\n",
    "            #handling code here\n",
    "            print(\"Category: Order\")\n",
    "        elif category == \"SHIPPING_ADDRESS\":\n",
    "            #handling code here\n",
    "            print(\"Category: Shipping address\")\n",
    "        elif category == \"CANCELLATION_FEE\":\n",
    "            #handling code here\n",
    "            print(\"Category: Cancellation fee\")\n",
    "        elif category == \"INVOICE\":\n",
    "            #handling code here\n",
    "            print(\"Category: Invoice\")\n",
    "        elif category == \"PAYMENT\":\n",
    "            #handling code here\n",
    "            print(\"Category: Payment\")\n",
    "        elif category == \"REFUND\":\n",
    "            #handling code here\n",
    "            print(\"Category: Refund\")\n",
    "        elif category == \"FEEDBACK\":\n",
    "            #handling code here\n",
    "            print(\"Category: Feedback\")\n",
    "        elif category == \"CONTACT\":\n",
    "            #handling code here\n",
    "            print(\"Category: Contact\")\n",
    "        elif category == \"ACCOUNT\":\n",
    "            #handling code here\n",
    "            print(\"Category: Account\")\n",
    "        elif category == \"DELIVERY\":\n",
    "            #handling code here\n",
    "            print(\"Category: Delivery\")\n",
    "        elif category == \"NEWSLETTER\":\n",
    "            #handling code here\n",
    "            print(\"Category: Newsletter\")\n",
    "        else:\n",
    "            #Not categorized code here\n",
    "            print(\"Category: Unknown category\")"
   ]
  },
  {
   "cell_type": "code",
   "execution_count": 28,
   "id": "015d8888",
   "metadata": {},
   "outputs": [],
   "source": [
    "#This method launches a command line interface to test the output of the pipeline.\n",
    "def cli_test_mode():\n",
    "    text = ''\n",
    "    print('Please provide text input to test classification. Type \\\"exit\\\" to stop.')\n",
    "    while text != 'exit':\n",
    "        text = input('Enter text here: ')\n",
    "        category = Categorizer.process_input_text(text)\n",
    "        ClassificationHandler.process_classification(category)\n",
    "        "
   ]
  },
  {
   "cell_type": "code",
   "execution_count": 32,
   "id": "36d31d27",
   "metadata": {},
   "outputs": [
    {
     "name": "stdout",
     "output_type": "stream",
     "text": [
      "Please provide text input to test classification. Type \"exit\" to stop.\n",
      "Enter text here: Billing\n",
      "Category: Account\n",
      "Enter text here: Can I see my last bill?\n",
      "Category: Account\n",
      "Enter text here: Can I see my last invoice?\n",
      "Category: Invoice\n",
      "Enter text here: Can I update my address?\n",
      "Category: Shipping address\n",
      "Enter text here: Can I change my order?\n",
      "Category: Order\n",
      "Enter text here: I want a refund\n",
      "Category: Refund\n",
      "Enter text here: I want to refund my order this service is dogshit\n",
      "Category: Refund\n",
      "Enter text here: I want to double my order\n",
      "Category: Order\n",
      "Enter text here: I am unhappy with this service\n",
      "Category: Contact\n",
      "Enter text here: Can I see what my husband is buying?\n",
      "Category: Order\n",
      "Enter text here: exit\n",
      "Category: Cancellation fee\n"
     ]
    }
   ],
   "source": [
    "cli_test_mode()"
   ]
  }
 ],
 "metadata": {
  "kernelspec": {
   "display_name": "Python 3 (ipykernel)",
   "language": "python",
   "name": "python3"
  },
  "language_info": {
   "codemirror_mode": {
    "name": "ipython",
    "version": 3
   },
   "file_extension": ".py",
   "mimetype": "text/x-python",
   "name": "python",
   "nbconvert_exporter": "python",
   "pygments_lexer": "ipython3",
   "version": "3.9.13"
  }
 },
 "nbformat": 4,
 "nbformat_minor": 5
}
