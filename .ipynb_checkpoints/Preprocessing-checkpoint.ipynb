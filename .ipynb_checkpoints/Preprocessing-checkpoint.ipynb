{
 "cells": [
  {
   "cell_type": "code",
   "execution_count": 1,
   "id": "0a1704ed",
   "metadata": {},
   "outputs": [],
   "source": [
    "import spacy\n",
    "import pandas as pd\n",
    "import string\n",
    "import numpy"
   ]
  },
  {
   "cell_type": "code",
   "execution_count": 2,
   "id": "513d559b",
   "metadata": {},
   "outputs": [],
   "source": [
    "nlp = spacy.load('en_core_web_md')"
   ]
  },
  {
   "cell_type": "code",
   "execution_count": 3,
   "id": "66426a4e",
   "metadata": {},
   "outputs": [],
   "source": [
    "filename = 'dataset\\8000_utterances.csv'"
   ]
  },
  {
   "cell_type": "code",
   "execution_count": 4,
   "id": "be37e055",
   "metadata": {},
   "outputs": [],
   "source": [
    "df = pd.read_csv(filename)"
   ]
  },
  {
   "cell_type": "code",
   "execution_count": 5,
   "id": "9fdff9e3",
   "metadata": {},
   "outputs": [],
   "source": [
    "class Text_Pre_Processor:\n",
    "    '''Prepare dataframe for use in Tf-id and semantic similarity comparison. \n",
    "    \n",
    "    Args: \n",
    "    nlp= initialized spaCy \n",
    "    df = prepared pandas dataframe\n",
    "    \n",
    "    Output: \n",
    "    Doc object with lemmatized text version of input without punct or stop words'''\n",
    "    def __init__(self, nlp):\n",
    "        self.nlp = nlp\n",
    "     \n",
    "    #input string, remove punct, return new string\n",
    "    def remove_punct(self, text):\n",
    "        text = text.translate(str.maketrans('','',string.punctuation))\n",
    "        return text\n",
    "        \n",
    "    #input text, remove text, return new doc.\n",
    "    def stop_word_removal(self, text):\n",
    "        doc = nlp(text)\n",
    "        stop_word_index = []\n",
    "        for index, token in enumerate(doc):\n",
    "            if token.text.lower() in nlp.Defaults.stop_words:\n",
    "                stop_word_index.append(index)\n",
    "        filtered_tokens = [token.text for i,token in enumerate(doc) if i not in stop_word_index]\n",
    "        doc = nlp(' '.join(filtered_tokens))\n",
    "        return doc\n",
    "        \n",
    "    #input doc, return lemmatized doc\n",
    "    def lemmatization(self, doc):\n",
    "        lemmas = ''\n",
    "        for token in doc:\n",
    "            lemmas = lemmas + (token.lemma_) + ' '\n",
    "        return nlp(lemmas)\n",
    "        \n",
    "    #Perform all processing on text input\n",
    "    def process(self, utterance):\n",
    "        text = self.remove_punct(utterance)\n",
    "        doc = self.stop_word_removal(text)\n",
    "        doc = self.lemmatization(doc)\n",
    "        return doc"
   ]
  },
  {
   "cell_type": "code",
   "execution_count": 16,
   "id": "c1d2d05a",
   "metadata": {},
   "outputs": [
    {
     "ename": "ValueError",
     "evalue": "cannot insert semantic_value, already exists",
     "output_type": "error",
     "traceback": [
      "\u001b[1;31m---------------------------------------------------------------------------\u001b[0m",
      "\u001b[1;31mValueError\u001b[0m                                Traceback (most recent call last)",
      "\u001b[1;32m~\\AppData\\Local\\Temp\\ipykernel_12068\\1337482389.py\u001b[0m in \u001b[0;36m<module>\u001b[1;34m\u001b[0m\n\u001b[0;32m      4\u001b[0m \u001b[1;31m#add new column to dataframe:\u001b[0m\u001b[1;33m\u001b[0m\u001b[1;33m\u001b[0m\u001b[0m\n\u001b[0;32m      5\u001b[0m \u001b[1;31m#df['semantic_value'] = 0.0\u001b[0m\u001b[1;33m\u001b[0m\u001b[1;33m\u001b[0m\u001b[0m\n\u001b[1;32m----> 6\u001b[1;33m \u001b[0mdf\u001b[0m\u001b[1;33m.\u001b[0m\u001b[0minsert\u001b[0m\u001b[1;33m(\u001b[0m\u001b[0mlen\u001b[0m\u001b[1;33m(\u001b[0m\u001b[0mdf\u001b[0m\u001b[1;33m.\u001b[0m\u001b[0mcolumns\u001b[0m\u001b[1;33m)\u001b[0m\u001b[1;33m,\u001b[0m \u001b[1;34m'semantic_value'\u001b[0m\u001b[1;33m,\u001b[0m \u001b[0mpd\u001b[0m\u001b[1;33m.\u001b[0m\u001b[0mSeries\u001b[0m\u001b[1;33m(\u001b[0m\u001b[1;33m[\u001b[0m\u001b[1;33m[\u001b[0m\u001b[1;36m1\u001b[0m\u001b[1;33m,\u001b[0m \u001b[1;36m2\u001b[0m\u001b[1;33m,\u001b[0m \u001b[1;36m3\u001b[0m\u001b[1;33m]\u001b[0m\u001b[1;33m,\u001b[0m \u001b[1;34m'a'\u001b[0m\u001b[1;33m]\u001b[0m\u001b[1;33m,\u001b[0m \u001b[0mdtype\u001b[0m\u001b[1;33m=\u001b[0m\u001b[0mobject\u001b[0m\u001b[1;33m)\u001b[0m\u001b[1;33m)\u001b[0m\u001b[1;33m\u001b[0m\u001b[1;33m\u001b[0m\u001b[0m\n\u001b[0m\u001b[0;32m      7\u001b[0m \u001b[1;33m\u001b[0m\u001b[0m\n\u001b[0;32m      8\u001b[0m \u001b[0mdf\u001b[0m\u001b[1;33m[\u001b[0m\u001b[1;34m'semantic_value_vec_norm'\u001b[0m\u001b[1;33m]\u001b[0m \u001b[1;33m=\u001b[0m \u001b[1;36m0\u001b[0m\u001b[1;33m\u001b[0m\u001b[1;33m\u001b[0m\u001b[0m\n",
      "\u001b[1;32m~\\anaconda3\\lib\\site-packages\\pandas\\core\\frame.py\u001b[0m in \u001b[0;36minsert\u001b[1;34m(self, loc, column, value, allow_duplicates)\u001b[0m\n\u001b[0;32m   4441\u001b[0m         \u001b[1;32mif\u001b[0m \u001b[1;32mnot\u001b[0m \u001b[0mallow_duplicates\u001b[0m \u001b[1;32mand\u001b[0m \u001b[0mcolumn\u001b[0m \u001b[1;32min\u001b[0m \u001b[0mself\u001b[0m\u001b[1;33m.\u001b[0m\u001b[0mcolumns\u001b[0m\u001b[1;33m:\u001b[0m\u001b[1;33m\u001b[0m\u001b[1;33m\u001b[0m\u001b[0m\n\u001b[0;32m   4442\u001b[0m             \u001b[1;31m# Should this be a different kind of error??\u001b[0m\u001b[1;33m\u001b[0m\u001b[1;33m\u001b[0m\u001b[0m\n\u001b[1;32m-> 4443\u001b[1;33m             \u001b[1;32mraise\u001b[0m \u001b[0mValueError\u001b[0m\u001b[1;33m(\u001b[0m\u001b[1;34mf\"cannot insert {column}, already exists\"\u001b[0m\u001b[1;33m)\u001b[0m\u001b[1;33m\u001b[0m\u001b[1;33m\u001b[0m\u001b[0m\n\u001b[0m\u001b[0;32m   4444\u001b[0m         \u001b[1;32mif\u001b[0m \u001b[1;32mnot\u001b[0m \u001b[0misinstance\u001b[0m\u001b[1;33m(\u001b[0m\u001b[0mloc\u001b[0m\u001b[1;33m,\u001b[0m \u001b[0mint\u001b[0m\u001b[1;33m)\u001b[0m\u001b[1;33m:\u001b[0m\u001b[1;33m\u001b[0m\u001b[1;33m\u001b[0m\u001b[0m\n\u001b[0;32m   4445\u001b[0m             \u001b[1;32mraise\u001b[0m \u001b[0mTypeError\u001b[0m\u001b[1;33m(\u001b[0m\u001b[1;34m\"loc must be int\"\u001b[0m\u001b[1;33m)\u001b[0m\u001b[1;33m\u001b[0m\u001b[1;33m\u001b[0m\u001b[0m\n",
      "\u001b[1;31mValueError\u001b[0m: cannot insert semantic_value, already exists"
     ]
    }
   ],
   "source": [
    "#preprocess text into lemmas, add semantic vector data into dataframe per entry, export into new dataframe\n",
    "\n",
    "text_processor = Text_Pre_Processor(nlp)\n",
    "#add new column to dataframe:\n",
    "#df['semantic_value'] = 0.0\n",
    "df.insert(len(df.columns), 'semantic_value', pd.Series([[1, 2, 3], 'a'], dtype=object))\n",
    "\n",
    "df['semantic_value_vec_norm'] = 0\n",
    "\n",
    "for i, text in enumerate(df.loc[:, 'utterance']):\n",
    "#for i, text in enumerate(df.loc[0:5, 'utterance']):\n",
    "    doc = text_processor.process(text)\n",
    "    new_utterance = []\n",
    "    for token in doc:\n",
    "        new_utterance.append(token.text)\n",
    "    df.at[i, 'utterance'] = ' '.join(new_utterance)\n",
    "    \n",
    "    #Cannot put array into df cell. Could convert to str and then back to list for sklearn?\n",
    "    df.at[i, 'semantic_value'] = doc.vector\n",
    "    \n",
    "    df.at[i, 'semantic_value_vec_norm'] = doc.vector_norm\n",
    "    \n",
    "#export treated DF for use in next steps\n",
    "df.to_csv('treated_data.csv', index=False)\n",
    "df.to_json('treated_data.json', index=False)"
   ]
  },
  {
   "cell_type": "code",
   "execution_count": 18,
   "id": "fefa9c65",
   "metadata": {},
   "outputs": [],
   "source": [
    "df.to_json('treated_data.json')"
   ]
  },
  {
   "cell_type": "code",
   "execution_count": 12,
   "id": "53c693d4",
   "metadata": {
    "scrolled": false
   },
   "outputs": [
    {
     "name": "stdout",
     "output_type": "stream",
     "text": [
      "<class 'pandas.core.frame.DataFrame'>\n",
      "RangeIndex: 8175 entries, 0 to 8174\n",
      "Data columns (total 6 columns):\n",
      " #   Column                   Non-Null Count  Dtype  \n",
      "---  ------                   --------------  -----  \n",
      " 0   flags                    8175 non-null   object \n",
      " 1   utterance                8175 non-null   object \n",
      " 2   category                 8175 non-null   object \n",
      " 3   intent                   8175 non-null   object \n",
      " 4   semantic_value           8175 non-null   object \n",
      " 5   semantic_value_vec_norm  8175 non-null   float64\n",
      "dtypes: float64(1), object(5)\n",
      "memory usage: 383.3+ KB\n"
     ]
    }
   ],
   "source": [
    "df.info()"
   ]
  },
  {
   "cell_type": "code",
   "execution_count": 13,
   "id": "2b64fe09",
   "metadata": {
    "scrolled": true
   },
   "outputs": [
    {
     "data": {
      "text/html": [
       "<div>\n",
       "<style scoped>\n",
       "    .dataframe tbody tr th:only-of-type {\n",
       "        vertical-align: middle;\n",
       "    }\n",
       "\n",
       "    .dataframe tbody tr th {\n",
       "        vertical-align: top;\n",
       "    }\n",
       "\n",
       "    .dataframe thead th {\n",
       "        text-align: right;\n",
       "    }\n",
       "</style>\n",
       "<table border=\"1\" class=\"dataframe\">\n",
       "  <thead>\n",
       "    <tr style=\"text-align: right;\">\n",
       "      <th></th>\n",
       "      <th>flags</th>\n",
       "      <th>utterance</th>\n",
       "      <th>category</th>\n",
       "      <th>intent</th>\n",
       "      <th>semantic_value</th>\n",
       "      <th>semantic_value_vec_norm</th>\n",
       "    </tr>\n",
       "  </thead>\n",
       "  <tbody>\n",
       "    <tr>\n",
       "      <th>0</th>\n",
       "      <td>BM</td>\n",
       "      <td>problem cancel order</td>\n",
       "      <td>ORDER</td>\n",
       "      <td>cancel_order</td>\n",
       "      <td>[0.9792027, 1.7512335, -2.1456368, -0.20720005...</td>\n",
       "      <td>34.474487</td>\n",
       "    </tr>\n",
       "    <tr>\n",
       "      <th>1</th>\n",
       "      <td>BIM</td>\n",
       "      <td>find information cancel order</td>\n",
       "      <td>ORDER</td>\n",
       "      <td>cancel_order</td>\n",
       "      <td>[1.818227, -0.20782498, -1.0179275, -0.2591524...</td>\n",
       "      <td>36.865709</td>\n",
       "    </tr>\n",
       "    <tr>\n",
       "      <th>2</th>\n",
       "      <td>B</td>\n",
       "      <td>need help cancel order</td>\n",
       "      <td>ORDER</td>\n",
       "      <td>cancel_order</td>\n",
       "      <td>[3.3943768, 2.520625, -4.8734274, -0.1435399, ...</td>\n",
       "      <td>42.555865</td>\n",
       "    </tr>\n",
       "    <tr>\n",
       "      <th>3</th>\n",
       "      <td>BIP</td>\n",
       "      <td>help cancel order</td>\n",
       "      <td>ORDER</td>\n",
       "      <td>cancel_order</td>\n",
       "      <td>[1.948936, 1.3805002, -4.733937, 0.60104674, 2...</td>\n",
       "      <td>40.969231</td>\n",
       "    </tr>\n",
       "    <tr>\n",
       "      <th>4</th>\n",
       "      <td>B</td>\n",
       "      <td>problem cancel order</td>\n",
       "      <td>ORDER</td>\n",
       "      <td>cancel_order</td>\n",
       "      <td>[0.9792027, 1.7512335, -2.1456368, -0.20720005...</td>\n",
       "      <td>34.474487</td>\n",
       "    </tr>\n",
       "  </tbody>\n",
       "</table>\n",
       "</div>"
      ],
      "text/plain": [
       "  flags                      utterance category        intent  \\\n",
       "0    BM           problem cancel order    ORDER  cancel_order   \n",
       "1   BIM  find information cancel order    ORDER  cancel_order   \n",
       "2     B         need help cancel order    ORDER  cancel_order   \n",
       "3   BIP              help cancel order    ORDER  cancel_order   \n",
       "4     B           problem cancel order    ORDER  cancel_order   \n",
       "\n",
       "                                      semantic_value  semantic_value_vec_norm  \n",
       "0  [0.9792027, 1.7512335, -2.1456368, -0.20720005...                34.474487  \n",
       "1  [1.818227, -0.20782498, -1.0179275, -0.2591524...                36.865709  \n",
       "2  [3.3943768, 2.520625, -4.8734274, -0.1435399, ...                42.555865  \n",
       "3  [1.948936, 1.3805002, -4.733937, 0.60104674, 2...                40.969231  \n",
       "4  [0.9792027, 1.7512335, -2.1456368, -0.20720005...                34.474487  "
      ]
     },
     "execution_count": 13,
     "metadata": {},
     "output_type": "execute_result"
    }
   ],
   "source": [
    "df.head()"
   ]
  },
  {
   "cell_type": "code",
   "execution_count": 15,
   "id": "f864793c",
   "metadata": {},
   "outputs": [
    {
     "data": {
      "text/plain": [
       "array([ 0.9792027 ,  1.7512335 , -2.1456368 , -0.20720005,  4.6970334 ,\n",
       "        2.1917    ,  1.2470099 ,  0.81709   , -1.1547333 ,  1.7342666 ,\n",
       "        5.3666434 ,  3.5145    , -4.395563  ,  2.4533    , -2.3689833 ,\n",
       "        1.6324171 ,  4.0568333 , -0.75202674, -3.0815334 , -1.2708668 ,\n",
       "       -2.0174    , -0.52185637, -2.0121167 ,  2.9151165 , -2.1957    ,\n",
       "       -1.2282    , -1.7814001 , -0.01191   , -2.6512668 ,  2.0717766 ,\n",
       "        2.1749332 , -0.13233997, -0.89767   ,  1.3347334 ,  0.86010337,\n",
       "       -0.44156003,  2.35814   , -0.8203433 ,  2.3345733 ,  3.2949002 ,\n",
       "       -0.23484336,  1.07331   , -0.13427   , -0.47432336, -1.6106133 ,\n",
       "        0.48746333,  5.7774334 , -0.9473067 , -0.18473339,  1.1517333 ,\n",
       "       -1.4760332 ,  0.40541002, -0.07463332, -4.1847997 , -4.623733  ,\n",
       "        1.8456335 , -0.8551033 ,  2.0120666 ,  0.09019998,  2.8318336 ,\n",
       "        3.9416    , -1.3601333 , -3.1752331 , -1.3463668 ,  2.6987    ,\n",
       "        1.9365698 , -2.0134666 , -3.2986333 , -0.28944668,  3.3479664 ,\n",
       "       -0.29421332,  0.0244    , -1.4469776 , -0.85109   , -1.1901033 ,\n",
       "        2.8957336 , -0.05590002, -1.3881434 , -2.5717032 , -1.1904334 ,\n",
       "       -2.7628334 , -2.3471668 ,  0.31689   ,  2.4222333 , -0.79123336,\n",
       "       -0.91692   , -2.3897533 , -3.1720667 ,  2.4384668 , -0.38661334,\n",
       "        0.6859133 ,  1.8863834 , -0.8949733 ,  0.12000004,  1.9023533 ,\n",
       "       -0.75249   ,  0.03543667, -0.22153325, -0.82358   ,  1.9406368 ,\n",
       "        2.9618332 ,  3.0286    ,  1.4278268 , -1.1107134 , -1.4514033 ,\n",
       "        4.181433  , -1.4352933 , -0.21833666, -0.6390167 , -1.8366933 ,\n",
       "        1.4182668 ,  1.5601667 , -1.6099666 ,  0.5792634 , -1.7661699 ,\n",
       "        2.40871   , -1.7936668 , -2.3466332 ,  3.1102333 ,  0.02060668,\n",
       "       -1.8489088 , -5.1337    , -2.22418   , -1.3585466 , -0.2248733 ,\n",
       "       -1.7942333 ,  2.6458619 , -0.97675675,  1.7461333 , -1.4491333 ,\n",
       "       -4.1000667 , -0.43443337,  0.4601333 , -0.56540996, -0.64369994,\n",
       "       -1.94405   , -1.2970166 , -1.6500701 ,  2.4406266 , -1.0185666 ,\n",
       "       -1.7338333 , -2.41084   ,  1.4273001 , -0.23803999, -0.51507473,\n",
       "       -1.4249    , -2.4302099 , -1.0641333 ,  0.19785659,  1.7471333 ,\n",
       "       -3.0677798 ,  1.3376666 ,  0.67433333, -0.6577563 , -0.10573339,\n",
       "       -1.2913867 ,  3.44254   , -0.94193333, -1.6833032 , -0.49993333,\n",
       "       -1.5649166 , -1.1154333 , -1.0107665 ,  0.2119    ,  0.573034  ,\n",
       "       -0.6026786 , -4.222093  ,  0.81931996, -0.60625666,  0.33574668,\n",
       "       -2.0055335 ,  1.2224333 ,  0.7168667 , -1.4512633 ,  1.4158901 ,\n",
       "       -1.1447    ,  0.71345997,  1.8136435 , -2.2614567 , -0.4937067 ,\n",
       "        1.7503767 , -0.80424666,  1.3551    ,  0.22221999, -1.74293   ,\n",
       "       -1.4624901 , -2.1419334 ,  0.29710007,  2.7856    ,  2.9057667 ,\n",
       "       -2.5991933 , -3.5231667 , -0.95528334, -2.0576887 ,  0.611619  ,\n",
       "       -1.57899   , -1.9534334 ,  0.45343328, -1.8493066 ,  1.101186  ,\n",
       "       -5.0337334 , -1.4178826 , -0.9190033 , -2.9676332 ,  0.216     ,\n",
       "        1.8231999 , -0.3726333 ,  0.91888666, -0.5387233 , -0.5003033 ,\n",
       "        1.25846   , -1.16311   , -1.3937477 ,  0.59120005,  0.5352333 ,\n",
       "        1.86612   ,  1.7979666 , -1.1088266 ,  0.25886664, -1.5031594 ,\n",
       "       -2.7085333 ,  0.47550002, -0.57415324, -0.34136   ,  0.5207333 ,\n",
       "       -3.4390697 , -2.1393    ,  2.4728668 , -0.6034334 ,  0.24546997,\n",
       "        1.9359499 , -3.4119003 ,  1.90788   , -0.4512333 ,  2.5279067 ,\n",
       "        1.6324133 , -2.0335867 ,  1.9972566 , -0.18726666, -0.9707733 ,\n",
       "       -3.5891666 , -1.1144067 , -1.1683    ,  2.27976   , -0.06773333,\n",
       "        2.2340333 , -0.9049333 ,  1.8091668 ,  1.1323667 ,  1.6929001 ,\n",
       "        1.1352    , -4.124333  , -3.1713135 , -0.9314601 ,  0.5245333 ,\n",
       "       -3.9903002 ,  1.8370466 , -3.0594585 , -0.8214333 ,  0.44519666,\n",
       "       -1.50234   ,  4.04319   , -0.07102003,  2.5394335 ,  2.8866332 ,\n",
       "        0.13335967,  3.3550665 ,  1.06962   , -4.743513  ,  0.46755663,\n",
       "       -0.04893667,  1.1764607 ,  2.5851333 , -0.87546664, -0.0218666 ,\n",
       "       -3.8179    , -1.1794333 , -1.9680234 , -1.99891   ,  3.0980568 ,\n",
       "       -0.57469666,  0.23923033,  1.4304667 , -0.20410013,  2.4352334 ,\n",
       "        1.5301843 ,  2.2468667 ,  1.8883234 , -5.295467  , -1.28357   ,\n",
       "        1.7799333 , -1.5779101 ,  0.39068666, -0.69499993, -1.4881701 ,\n",
       "        0.93310004,  1.1834201 , -1.0992066 , -0.95311135,  2.741267  ],\n",
       "      dtype=float32)"
      ]
     },
     "execution_count": 15,
     "metadata": {},
     "output_type": "execute_result"
    }
   ],
   "source": [
    "df.loc[0, \"semantic_value\"]"
   ]
  }
 ],
 "metadata": {
  "kernelspec": {
   "display_name": "Python 3 (ipykernel)",
   "language": "python",
   "name": "python3"
  },
  "language_info": {
   "codemirror_mode": {
    "name": "ipython",
    "version": 3
   },
   "file_extension": ".py",
   "mimetype": "text/x-python",
   "name": "python",
   "nbconvert_exporter": "python",
   "pygments_lexer": "ipython3",
   "version": "3.9.13"
  }
 },
 "nbformat": 4,
 "nbformat_minor": 5
}
