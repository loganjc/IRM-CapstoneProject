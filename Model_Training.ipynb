{
 "cells": [
  {
   "cell_type": "code",
   "execution_count": 124,
   "id": "2282149d",
   "metadata": {},
   "outputs": [],
   "source": [
    "import numpy as np\n",
    "import pandas as pd\n",
    "from sklearn.model_selection import train_test_split\n",
    "from sklearn.pipeline import Pipeline\n",
    "from sklearn.feature_extraction.text import TfidfVectorizer\n",
    "#from sklearn.preprocessing import StandardScaler\n",
    "from sklearn.svm import LinearSVC\n",
    "from sklearn import metrics\n",
    "from sklearn import datasets\n",
    "import pickle\n",
    "from joblib import dump"
   ]
  },
  {
   "cell_type": "code",
   "execution_count": 69,
   "id": "19a16a42",
   "metadata": {},
   "outputs": [],
   "source": [
    "df = pd.read_json('treated_data.json')"
   ]
  },
  {
   "cell_type": "code",
   "execution_count": 79,
   "id": "5ddc0b5f",
   "metadata": {},
   "outputs": [],
   "source": [
    "#Lemmas train/ test data split\n",
    "X = df['utterance']\n",
    "y = df['category']\n",
    "X_lemma_train, X_lemma_test, y_lemma_train, y_lemma_test = train_test_split(X,y, stratify= df[['category']], test_size=0.33, random_state=42)"
   ]
  },
  {
   "cell_type": "code",
   "execution_count": 80,
   "id": "a632b4fe",
   "metadata": {},
   "outputs": [],
   "source": [
    "#Vector norms train/ test data split\n",
    "X = df['semantic_value_vec_norm']\n",
    "y = df['category']\n",
    "X_norm_train, X_norm_test, y_norm_train, y_norm_test = train_test_split(X.values.reshape(-1,1),\\\n",
    "                                                                        y.values.reshape(-1,1),\\\n",
    "                                                                        stratify= df[['category']], test_size=0.33, random_state=42)"
   ]
  },
  {
   "cell_type": "code",
   "execution_count": 81,
   "id": "a3d85b0a",
   "metadata": {},
   "outputs": [],
   "source": [
    "#Vector arrays train/test data split\n",
    "X = df['semantic_value']\n",
    "y = df['category']\n",
    "X_vect_train, X_vect_test, y_vect_train, y_vects_test = train_test_split(X,y, stratify= df[['category']], test_size=0.33, random_state=42)"
   ]
  },
  {
   "cell_type": "code",
   "execution_count": 82,
   "id": "46465b42",
   "metadata": {},
   "outputs": [],
   "source": [
    "#TFIDF vectorizer pipeline object\n",
    "tfidf_lsvc = Pipeline([('tfidf', TfidfVectorizer()),('clf', LinearSVC())])"
   ]
  },
  {
   "cell_type": "code",
   "execution_count": 90,
   "id": "81883a28",
   "metadata": {},
   "outputs": [],
   "source": [
    "#vector arrays svc \n",
    "vects_lsvc = Pipeline([('standardScaler',StandardScaler()), ('linearSVC', LinearSVC())])\n",
    "#vects_lvsc = LinearSVC()"
   ]
  },
  {
   "cell_type": "code",
   "execution_count": 84,
   "id": "81d8e475",
   "metadata": {},
   "outputs": [],
   "source": [
    "#Vector norm svc\n",
    "norm_lsvc = LinearSVC()"
   ]
  },
  {
   "cell_type": "code",
   "execution_count": 85,
   "id": "8e474e97",
   "metadata": {},
   "outputs": [
    {
     "data": {
      "text/html": [
       "<style>#sk-container-id-6 {color: black;background-color: white;}#sk-container-id-6 pre{padding: 0;}#sk-container-id-6 div.sk-toggleable {background-color: white;}#sk-container-id-6 label.sk-toggleable__label {cursor: pointer;display: block;width: 100%;margin-bottom: 0;padding: 0.3em;box-sizing: border-box;text-align: center;}#sk-container-id-6 label.sk-toggleable__label-arrow:before {content: \"▸\";float: left;margin-right: 0.25em;color: #696969;}#sk-container-id-6 label.sk-toggleable__label-arrow:hover:before {color: black;}#sk-container-id-6 div.sk-estimator:hover label.sk-toggleable__label-arrow:before {color: black;}#sk-container-id-6 div.sk-toggleable__content {max-height: 0;max-width: 0;overflow: hidden;text-align: left;background-color: #f0f8ff;}#sk-container-id-6 div.sk-toggleable__content pre {margin: 0.2em;color: black;border-radius: 0.25em;background-color: #f0f8ff;}#sk-container-id-6 input.sk-toggleable__control:checked~div.sk-toggleable__content {max-height: 200px;max-width: 100%;overflow: auto;}#sk-container-id-6 input.sk-toggleable__control:checked~label.sk-toggleable__label-arrow:before {content: \"▾\";}#sk-container-id-6 div.sk-estimator input.sk-toggleable__control:checked~label.sk-toggleable__label {background-color: #d4ebff;}#sk-container-id-6 div.sk-label input.sk-toggleable__control:checked~label.sk-toggleable__label {background-color: #d4ebff;}#sk-container-id-6 input.sk-hidden--visually {border: 0;clip: rect(1px 1px 1px 1px);clip: rect(1px, 1px, 1px, 1px);height: 1px;margin: -1px;overflow: hidden;padding: 0;position: absolute;width: 1px;}#sk-container-id-6 div.sk-estimator {font-family: monospace;background-color: #f0f8ff;border: 1px dotted black;border-radius: 0.25em;box-sizing: border-box;margin-bottom: 0.5em;}#sk-container-id-6 div.sk-estimator:hover {background-color: #d4ebff;}#sk-container-id-6 div.sk-parallel-item::after {content: \"\";width: 100%;border-bottom: 1px solid gray;flex-grow: 1;}#sk-container-id-6 div.sk-label:hover label.sk-toggleable__label {background-color: #d4ebff;}#sk-container-id-6 div.sk-serial::before {content: \"\";position: absolute;border-left: 1px solid gray;box-sizing: border-box;top: 0;bottom: 0;left: 50%;z-index: 0;}#sk-container-id-6 div.sk-serial {display: flex;flex-direction: column;align-items: center;background-color: white;padding-right: 0.2em;padding-left: 0.2em;position: relative;}#sk-container-id-6 div.sk-item {position: relative;z-index: 1;}#sk-container-id-6 div.sk-parallel {display: flex;align-items: stretch;justify-content: center;background-color: white;position: relative;}#sk-container-id-6 div.sk-item::before, #sk-container-id-6 div.sk-parallel-item::before {content: \"\";position: absolute;border-left: 1px solid gray;box-sizing: border-box;top: 0;bottom: 0;left: 50%;z-index: -1;}#sk-container-id-6 div.sk-parallel-item {display: flex;flex-direction: column;z-index: 1;position: relative;background-color: white;}#sk-container-id-6 div.sk-parallel-item:first-child::after {align-self: flex-end;width: 50%;}#sk-container-id-6 div.sk-parallel-item:last-child::after {align-self: flex-start;width: 50%;}#sk-container-id-6 div.sk-parallel-item:only-child::after {width: 0;}#sk-container-id-6 div.sk-dashed-wrapped {border: 1px dashed gray;margin: 0 0.4em 0.5em 0.4em;box-sizing: border-box;padding-bottom: 0.4em;background-color: white;}#sk-container-id-6 div.sk-label label {font-family: monospace;font-weight: bold;display: inline-block;line-height: 1.2em;}#sk-container-id-6 div.sk-label-container {text-align: center;}#sk-container-id-6 div.sk-container {/* jupyter's `normalize.less` sets `[hidden] { display: none; }` but bootstrap.min.css set `[hidden] { display: none !important; }` so we also need the `!important` here to be able to override the default hidden behavior on the sphinx rendered scikit-learn.org. See: https://github.com/scikit-learn/scikit-learn/issues/21755 */display: inline-block !important;position: relative;}#sk-container-id-6 div.sk-text-repr-fallback {display: none;}</style><div id=\"sk-container-id-6\" class=\"sk-top-container\"><div class=\"sk-text-repr-fallback\"><pre>Pipeline(steps=[(&#x27;tfidf&#x27;, TfidfVectorizer()), (&#x27;clf&#x27;, LinearSVC())])</pre><b>In a Jupyter environment, please rerun this cell to show the HTML representation or trust the notebook. <br />On GitHub, the HTML representation is unable to render, please try loading this page with nbviewer.org.</b></div><div class=\"sk-container\" hidden><div class=\"sk-item sk-dashed-wrapped\"><div class=\"sk-label-container\"><div class=\"sk-label sk-toggleable\"><input class=\"sk-toggleable__control sk-hidden--visually\" id=\"sk-estimator-id-12\" type=\"checkbox\" ><label for=\"sk-estimator-id-12\" class=\"sk-toggleable__label sk-toggleable__label-arrow\">Pipeline</label><div class=\"sk-toggleable__content\"><pre>Pipeline(steps=[(&#x27;tfidf&#x27;, TfidfVectorizer()), (&#x27;clf&#x27;, LinearSVC())])</pre></div></div></div><div class=\"sk-serial\"><div class=\"sk-item\"><div class=\"sk-estimator sk-toggleable\"><input class=\"sk-toggleable__control sk-hidden--visually\" id=\"sk-estimator-id-13\" type=\"checkbox\" ><label for=\"sk-estimator-id-13\" class=\"sk-toggleable__label sk-toggleable__label-arrow\">TfidfVectorizer</label><div class=\"sk-toggleable__content\"><pre>TfidfVectorizer()</pre></div></div></div><div class=\"sk-item\"><div class=\"sk-estimator sk-toggleable\"><input class=\"sk-toggleable__control sk-hidden--visually\" id=\"sk-estimator-id-14\" type=\"checkbox\" ><label for=\"sk-estimator-id-14\" class=\"sk-toggleable__label sk-toggleable__label-arrow\">LinearSVC</label><div class=\"sk-toggleable__content\"><pre>LinearSVC()</pre></div></div></div></div></div></div></div>"
      ],
      "text/plain": [
       "Pipeline(steps=[('tfidf', TfidfVectorizer()), ('clf', LinearSVC())])"
      ]
     },
     "execution_count": 85,
     "metadata": {},
     "output_type": "execute_result"
    }
   ],
   "source": [
    "#Fit models\n",
    "tfidf_lsvc.fit(X_lemma_train, y_lemma_train)"
   ]
  },
  {
   "cell_type": "code",
   "execution_count": 107,
   "id": "463805f8",
   "metadata": {},
   "outputs": [],
   "source": [
    "#vects_lsvc.fit(X_vect_train, y_vect_train)"
   ]
  },
  {
   "cell_type": "code",
   "execution_count": 108,
   "id": "84d16baf",
   "metadata": {},
   "outputs": [],
   "source": [
    "#norm_lsvc.fit(X_norm_train, y_norm_train.ravel())"
   ]
  },
  {
   "cell_type": "code",
   "execution_count": 36,
   "id": "588151c4",
   "metadata": {},
   "outputs": [],
   "source": [
    "#Predictions for test data\n",
    "predictions_lemm = tfidf_lsvc.predict(X_lemma_test)\n",
    "predictions_norm = norm_lsvc.predict(X_norm_test)"
   ]
  },
  {
   "cell_type": "code",
   "execution_count": 37,
   "id": "c9a1e7ca",
   "metadata": {
    "scrolled": true
   },
   "outputs": [
    {
     "name": "stdout",
     "output_type": "stream",
     "text": [
      "[[584   0   2   0   0   0   0   0   0   0   0]\n",
      " [  1  97   0   0   0   0   0   0   0   0   0]\n",
      " [  0   0 197   0   0   0   0   0   0   0   0]\n",
      " [  0   0   0 199   0   0   0   0   0   0   0]\n",
      " [  0   0   1   0 201   0   0   0   0   0   0]\n",
      " [  0   0   0   0   0 214   0   0   0   0   0]\n",
      " [  0   0   0   0   0   0  97   0   0   0   0]\n",
      " [  1   0   0   1   0   0   0 401   0   0   0]\n",
      " [  0   0   0   1   0   0   0   0 204   0   0]\n",
      " [  1   0   0   0   0   0   0   0   0 297   0]\n",
      " [  0   0   0   1   0   0   0   0   0   0 198]]\n"
     ]
    }
   ],
   "source": [
    "print(metrics.confusion_matrix(y_lemma_test,predictions_lemm))"
   ]
  },
  {
   "cell_type": "code",
   "execution_count": 38,
   "id": "1346596d",
   "metadata": {},
   "outputs": [
    {
     "name": "stdout",
     "output_type": "stream",
     "text": [
      "                  precision    recall  f1-score   support\n",
      "\n",
      "         ACCOUNT       0.99      1.00      1.00       586\n",
      "CANCELLATION_FEE       1.00      0.99      0.99        98\n",
      "         CONTACT       0.98      1.00      0.99       197\n",
      "        DELIVERY       0.99      1.00      0.99       199\n",
      "        FEEDBACK       1.00      1.00      1.00       202\n",
      "         INVOICE       1.00      1.00      1.00       214\n",
      "      NEWSLETTER       1.00      1.00      1.00        97\n",
      "           ORDER       1.00      1.00      1.00       403\n",
      "         PAYMENT       1.00      1.00      1.00       205\n",
      "          REFUND       1.00      1.00      1.00       298\n",
      "SHIPPING_ADDRESS       1.00      0.99      1.00       199\n",
      "\n",
      "        accuracy                           1.00      2698\n",
      "       macro avg       1.00      1.00      1.00      2698\n",
      "    weighted avg       1.00      1.00      1.00      2698\n",
      "\n"
     ]
    }
   ],
   "source": [
    "print(metrics.classification_report(y_lemma_test,predictions_lemm))"
   ]
  },
  {
   "cell_type": "code",
   "execution_count": 126,
   "id": "20b63531",
   "metadata": {},
   "outputs": [],
   "source": [
    "#Model persitience\n",
    "#save the tfidf lsvc to be loaded into interface module\n",
    "with open('tfidf_lsvc.txt', 'wb') as f:\n",
    "    pickle.dump(tfidf_lsvc, f)\n",
    "\n",
    "with open('fitted_model.txt' , 'wb') as f:\n",
    "    dump(tfidf_lsvc, f)"
   ]
  }
 ],
 "metadata": {
  "kernelspec": {
   "display_name": "Python 3 (ipykernel)",
   "language": "python",
   "name": "python3"
  },
  "language_info": {
   "codemirror_mode": {
    "name": "ipython",
    "version": 3
   },
   "file_extension": ".py",
   "mimetype": "text/x-python",
   "name": "python",
   "nbconvert_exporter": "python",
   "pygments_lexer": "ipython3",
   "version": "3.9.13"
  }
 },
 "nbformat": 4,
 "nbformat_minor": 5
}
