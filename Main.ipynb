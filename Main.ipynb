{
 "cells": [
  {
   "cell_type": "code",
   "execution_count": 2,
   "id": "e9debb01",
   "metadata": {},
   "outputs": [],
   "source": [
    "import spacy\n",
    "from joblib import load\n",
    "import text_processing"
   ]
  },
  {
   "cell_type": "code",
   "execution_count": 4,
   "id": "e55a7c58",
   "metadata": {},
   "outputs": [],
   "source": [
    "nlp = load(\"spacy_nlp.txt\")\n",
    "tfidf_lsvc = load(\"fitted_model.txt\")"
   ]
  },
  {
   "cell_type": "code",
   "execution_count": 16,
   "id": "58edf005",
   "metadata": {},
   "outputs": [],
   "source": [
    "test = tfidf_lsvc.predict([\"I need a refund. I want to talk about my order.\"])"
   ]
  },
  {
   "cell_type": "code",
   "execution_count": 17,
   "id": "009f5918",
   "metadata": {
    "scrolled": false
   },
   "outputs": [
    {
     "data": {
      "text/plain": [
       "'ORDER'"
      ]
     },
     "execution_count": 17,
     "metadata": {},
     "output_type": "execute_result"
    }
   ],
   "source": [
    "test[0]"
   ]
  },
  {
   "cell_type": "code",
   "execution_count": 5,
   "id": "a41c791f",
   "metadata": {},
   "outputs": [],
   "source": [
    "input_processor = text_processing.Text_Pre_Processor(nlp)"
   ]
  },
  {
   "cell_type": "code",
   "execution_count": null,
   "id": "35e62f35",
   "metadata": {},
   "outputs": [],
   "source": [
    "def classify(text, input_processor):\n",
    "    #treat incoming text\n",
    "    doc = input_processor.p\n",
    "    #collect model predictions\n",
    "    #compare predictions\n",
    "    #output prediciton"
   ]
  },
  {
   "cell_type": "code",
   "execution_count": 6,
   "id": "78996cfd",
   "metadata": {},
   "outputs": [],
   "source": [
    "class ClassificationHandler:\n",
    "    '''Class to process results of categorization.\n",
    "    Currently methods are stubs to demonstrate the structure of the class.\n",
    "    Proper implementation of class in business software would likely place API calls to ticketing system here.'''\n",
    "    def process_classification(category):\n",
    "        if category == \"ORDER\":\n",
    "            #handling code here\n",
    "            print(\"Order\")\n",
    "        elif category == \"SHIPPING_ADDRESS\":\n",
    "            #handling code here\n",
    "            print(\"Shipping address\")\n",
    "        elif category == \"CANCELLATION_FEE\":\n",
    "            #handling code here\n",
    "            print(\"Cancellation fee\")\n",
    "        elif category == \"INVOICE\":\n",
    "            #handling code here\n",
    "            print(\"Invoice\")\n",
    "        elif category == \"PAYMENT\":\n",
    "            #handling code here\n",
    "            print(\"Payment\")\n",
    "        elif category == \"REFUND\":\n",
    "            #handling code here\n",
    "            print(\"Refund\")\n",
    "        elif category == \"FEEDBACK\":\n",
    "            #handling code here\n",
    "            print(\"Feedback\")\n",
    "        elif category == \"CONTACT\":\n",
    "            #handling code here\n",
    "            print(\"Contact\")\n",
    "        elif category == \"ACCOUNT\":\n",
    "            #handling code here\n",
    "            print(\"Account\")\n",
    "        elif category == \"DELIVERY\":\n",
    "            #handling code here\n",
    "            print(\"Delivery\")\n",
    "        elif category == \"NEWSLETTER\":\n",
    "            #handling code here\n",
    "            print(\"Newsletter\")\n",
    "        else:\n",
    "            #Not categorized code here\n",
    "            print(\"Unknown category\")"
   ]
  },
  {
   "cell_type": "code",
   "execution_count": null,
   "id": "015d8888",
   "metadata": {},
   "outputs": [],
   "source": []
  }
 ],
 "metadata": {
  "kernelspec": {
   "display_name": "Python 3 (ipykernel)",
   "language": "python",
   "name": "python3"
  },
  "language_info": {
   "codemirror_mode": {
    "name": "ipython",
    "version": 3
   },
   "file_extension": ".py",
   "mimetype": "text/x-python",
   "name": "python",
   "nbconvert_exporter": "python",
   "pygments_lexer": "ipython3",
   "version": "3.9.13"
  }
 },
 "nbformat": 4,
 "nbformat_minor": 5
}
