{
 "cells": [
  {
   "cell_type": "code",
   "execution_count": 14,
   "id": "e9debb01",
   "metadata": {},
   "outputs": [],
   "source": [
    "import spacy\n",
    "from joblib import load"
   ]
  },
  {
   "cell_type": "code",
   "execution_count": 15,
   "id": "e55a7c58",
   "metadata": {},
   "outputs": [],
   "source": [
    "tfidf_lsvc = load(\"fitted_model.txt\")"
   ]
  },
  {
   "cell_type": "code",
   "execution_count": 16,
   "id": "58edf005",
   "metadata": {},
   "outputs": [],
   "source": [
    "test = tfidf_lsvc.predict([\"I need a refund. I want to talk about my order.\"])"
   ]
  },
  {
   "cell_type": "code",
   "execution_count": 17,
   "id": "009f5918",
   "metadata": {
    "scrolled": false
   },
   "outputs": [
    {
     "data": {
      "text/plain": [
       "'ORDER'"
      ]
     },
     "execution_count": 17,
     "metadata": {},
     "output_type": "execute_result"
    }
   ],
   "source": [
    "test[0]"
   ]
  },
  {
   "cell_type": "code",
   "execution_count": 13,
   "id": "a41c791f",
   "metadata": {},
   "outputs": [],
   "source": [
    "#Can I import this from the other .py ???\n",
    "class Text_Pre_Processor:\n",
    "    '''Prepare novel text for use in Tf-id and semantic similarity comparison. \n",
    "    \n",
    "    Args: \n",
    "    Novel text for classification.\n",
    "    \n",
    "    Output: \n",
    "    Doc object with lemmatized text version of input without punct or stop words'''\n",
    "    def __init__(self, nlp):\n",
    "        self.nlp = nlp\n",
    "    \n",
    "    #input string, remove punct, return new string\n",
    "    def remove_punct(self, text):\n",
    "        text = text.translate(str.maketrans('','',string.punctuation))\n",
    "        return text\n",
    "        \n",
    "    #input text, remove text, return new doc.\n",
    "    def stop_word_removal(self, text):\n",
    "        doc = nlp(text)\n",
    "        stop_word_index = []\n",
    "        for index, token in enumerate(doc):\n",
    "            if token.text.lower() in nlp.Defaults.stop_words:\n",
    "                stop_word_index.append(index)\n",
    "        filtered_tokens = [token.text for i,token in enumerate(doc) if i not in stop_word_index]\n",
    "        doc = nlp(' '.join(filtered_tokens))\n",
    "        return doc\n",
    "        \n",
    "    #input doc, return lemmatized doc\n",
    "    def lemmatization(self, doc):\n",
    "        lemmas = ''\n",
    "        for token in doc:\n",
    "            lemmas = lemmas + (token.lemma_) + ' '\n",
    "        return nlp(lemmas)\n",
    "        \n",
    "    #Perform all processing on text input\n",
    "    def process(self, utterance):\n",
    "        text = self.remove_punct(utterance)\n",
    "        doc = self.stop_word_removal(text)\n",
    "        doc = self.lemmatization(doc)\n",
    "        return doc"
   ]
  },
  {
   "cell_type": "code",
   "execution_count": 12,
   "id": "78996cfd",
   "metadata": {},
   "outputs": [],
   "source": [
    "class ClassificationHandler:\n",
    "    '''Class to process results of categorization.\n",
    "    Currently methods are stubs to demonstrate the structure of the class.\n",
    "    Proper implementation of class in business software would likely place API calls to ticketing system here.'''\n",
    "    def process_classification(category):\n",
    "        if category == \"ORDER\":\n",
    "            #handling code here\n",
    "            print(\"Order\")\n",
    "        elif category == \"SHIPPING_ADDRESS\":\n",
    "            #handling code here\n",
    "            print(\"Shipping address\")\n",
    "        elif category == \"CANCELLATION_FEE\":\n",
    "            #handling code here\n",
    "            print(\"Cancellation fee\")\n",
    "        elif category == \"INVOICE\":\n",
    "            #handling code here\n",
    "            print(\"Invoice\")\n",
    "        elif category == \"PAYMENT\":\n",
    "            #handling code here\n",
    "            print(\"Payment\")\n",
    "        elif category == \"REFUND\":\n",
    "            #handling code here\n",
    "            print(\"Refund\")\n",
    "        elif category == \"FEEDBACK\":\n",
    "            #handling code here\n",
    "            print(\"Feedback\")\n",
    "        elif category == \"CONTACT\":\n",
    "            #handling code here\n",
    "            print(\"Contact\")\n",
    "        elif category == \"ACCOUNT\":\n",
    "            #handling code here\n",
    "            print(\"Account\")\n",
    "        elif category == \"DELIVERY\":\n",
    "            #handling code here\n",
    "            print(\"Delivery\")\n",
    "        elif category == \"NEWSLETTER\":\n",
    "            #handling code here\n",
    "            print(\"Newsletter\")\n",
    "        else:\n",
    "            #Not categorized code here\n",
    "            print(\"Unknown category\")"
   ]
  },
  {
   "cell_type": "code",
   "execution_count": null,
   "id": "015d8888",
   "metadata": {},
   "outputs": [],
   "source": []
  }
 ],
 "metadata": {
  "kernelspec": {
   "display_name": "Python 3 (ipykernel)",
   "language": "python",
   "name": "python3"
  },
  "language_info": {
   "codemirror_mode": {
    "name": "ipython",
    "version": 3
   },
   "file_extension": ".py",
   "mimetype": "text/x-python",
   "name": "python",
   "nbconvert_exporter": "python",
   "pygments_lexer": "ipython3",
   "version": "3.9.13"
  }
 },
 "nbformat": 4,
 "nbformat_minor": 5
}
